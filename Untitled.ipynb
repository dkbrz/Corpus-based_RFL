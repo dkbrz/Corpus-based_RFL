{
 "cells": [
  {
   "cell_type": "markdown",
   "metadata": {},
   "source": [
    "## Загрузка текста"
   ]
  },
  {
   "cell_type": "code",
   "execution_count": 1,
   "metadata": {},
   "outputs": [],
   "source": [
    "import re\n",
    "import os\n",
    "from collections import defaultdict"
   ]
  },
  {
   "cell_type": "code",
   "execution_count": 2,
   "metadata": {},
   "outputs": [],
   "source": [
    "import docx2txt\n",
    "import pymystem3\n",
    "m = pymystem3.Mystem(disambiguation=True, weight=False)\n",
    "import pymorphy2\n",
    "morph = pymorphy2.MorphAnalyzer()"
   ]
  },
  {
   "cell_type": "markdown",
   "metadata": {},
   "source": [
    "## Mystem"
   ]
  },
  {
   "cell_type": "code",
   "execution_count": 105,
   "metadata": {},
   "outputs": [],
   "source": [
    "def declension(word_object):\n",
    "    gr = word_object['gr']\n",
    "    lex = word_object['lex']\n",
    "    if len(gr.split('|')) > 10:\n",
    "        return ('Н')\n",
    "    elif 'муж' in gr:\n",
    "        if re.match('.*[^аёиуэюяй]$', lex) or re.match('.*[^оиы]й$', lex):\n",
    "            if lex in ['путь', 'пламень']: return 'Р'\n",
    "            else: return '2'\n",
    "        elif re.match('.*[^а][ая]$', lex): return '1'\n",
    "        elif re.match('.*[оыи]й(ся)?$', lex):\n",
    "            word = morph.parse(lex)\n",
    "            n = None\n",
    "            for key, value in enumerate(word):\n",
    "                if 'masc' in value.tag and value.inflect({'gent', 'sing'}):\n",
    "                    n = key\n",
    "                    break\n",
    "            if n is not None:\n",
    "                if re.match('.*го(ся)?$', word[n].inflect({'gent','sing'}).word): return 'А'\n",
    "                else: return '2'\n",
    "    elif 'жен' in gr:\n",
    "        if re.match('.*[^а][ая]$', lex): return '1'\n",
    "        elif re.match('.*ь$', lex): return '3'\n",
    "        elif re.match('.*(ая|яя)$(ся)?', lex):\n",
    "            word = morph.parse(lex)\n",
    "            n = None\n",
    "            for key, value in enumerate(word):\n",
    "                if 'femn' in value.tag and value.inflect({'gent', 'sing'}):\n",
    "                    n = key\n",
    "                    break\n",
    "            if n is not None:\n",
    "                if re.match('.*[ое]й(ся)?$', word[n].inflect({'gent','sing'}).word): return 'А'\n",
    "                else: return '1'\n",
    "    elif 'сред' in gr:\n",
    "        if re.match('.*[^о][ое]$', lex): return '2'\n",
    "        elif re.match('.*мя$', lex): return 'Р'\n",
    "        elif re.match('.*ое$(ся)?', lex): return 'А'\n",
    "        elif lex in ['дитя']: return 'Р'\n",
    "    elif 'мж' in gr:\n",
    "        return '1'\n",
    "    elif 'мн' in gr:\n",
    "        return ('T')"
   ]
  },
  {
   "cell_type": "code",
   "execution_count": 128,
   "metadata": {},
   "outputs": [],
   "source": [
    "def general(array):\n",
    "    for i in array:\n",
    "        if i['analysis']:\n",
    "            if 'S,' in i['analysis'][0]['gr']:\n",
    "                print (declension(i['analysis'][0]), i['analysis'][0]['lex'])"
   ]
  },
  {
   "cell_type": "code",
   "execution_count": 98,
   "metadata": {},
   "outputs": [
    {
     "name": "stdout",
     "output_type": "stream",
     "text": [
      "А служащий\n",
      "1 гостиница\n",
      "1 вредина\n",
      "Н киви\n",
      "2 кай\n",
      "1 мужчина\n"
     ]
    }
   ],
   "source": [
    "text = 'Служащий гостиницы - большой вредина и киви Кай и мужчина'\n",
    "analized = [x for x in m.analyze(text) if 'analysis' in x]\n",
    "general(analized)"
   ]
  },
  {
   "cell_type": "code",
   "execution_count": 28,
   "metadata": {},
   "outputs": [],
   "source": [
    "def text_declension(array):\n",
    "    for i in array:\n",
    "        if i['analysis']:\n",
    "            if 'S,' in i['analysis'][0]['gr']:\n",
    "                yield declension(i['analysis'][0]), i['analysis'][0]['lex']"
   ]
  },
  {
   "cell_type": "code",
   "execution_count": 16,
   "metadata": {},
   "outputs": [],
   "source": [
    "def clean_text(text):\n",
    "    text = text.split('\\n')\n",
    "    for key, line in enumerate(text):\n",
    "        if re.match('^[А-Я]\\.\\s?[А-Я].*?', line) or re.match('^.*?[А-Я][а-я]+\\s?[А-Я]\\..*?', line):\n",
    "            text[key] = ''\n",
    "    text = '\\n'.join(text)\n",
    "    text = text.replace('\\n\\n', '&&&&&')\n",
    "    text = text.replace('\\n', ' ')\n",
    "    text = text.replace('&&&&&', '\\n')\n",
    "    return text"
   ]
  },
  {
   "cell_type": "code",
   "execution_count": 11,
   "metadata": {},
   "outputs": [],
   "source": [
    "def get_all_texts(path):\n",
    "    result = defaultdict(lambda: [None, 0])\n",
    "    for root, dirs, files in os.walk (path):\n",
    "        for file in files:\n",
    "            text = docx2txt.process(root+'/'+file)\n",
    "            text = clean_text(text)\n",
    "            analized = [x for x in m.analyze(text) if 'analysis' in x]\n",
    "            for dec, lemma in text_declension(analized):\n",
    "                result[lemma][0] = dec\n",
    "                result[lemma][1] += 1\n",
    "    return result"
   ]
  },
  {
   "cell_type": "code",
   "execution_count": 132,
   "metadata": {},
   "outputs": [],
   "source": [
    "def sorted_result(result):\n",
    "    result2 = defaultdict(list)\n",
    "    for key in sorted(result):\n",
    "        result2[result[key][0]].append((key, result[key][1]))\n",
    "    return result2"
   ]
  },
  {
   "cell_type": "code",
   "execution_count": 254,
   "metadata": {},
   "outputs": [],
   "source": [
    "def declension_results(result, file):\n",
    "    S = sorted_result(result)\n",
    "    for key in S:\n",
    "        print (key, '\\n')\n",
    "        for word, n in sorted(S[key], key=lambda x: (x[1], x[0]), reverse=True):\n",
    "               print (word, '\\t', n)\n",
    "        print ('\\n\\n\\n')"
   ]
  },
  {
   "cell_type": "code",
   "execution_count": 268,
   "metadata": {},
   "outputs": [],
   "source": [
    "def stats_declension(path, filename):\n",
    "    with open(filename, 'w', encoding='utf-8') as output:\n",
    "        result = get_all_texts(path)\n",
    "        S = sorted_result(result)\n",
    "        for key in sorted(S.keys(), key=str):\n",
    "            for word, n in sorted(S[key], key=lambda x: (x[1], x[0]), reverse=True):\n",
    "                s = '{}\\t{}\\t{}\\n'.format(str(key), str(word), str(n))\n",
    "                output.write(s)"
   ]
  },
  {
   "cell_type": "code",
   "execution_count": 272,
   "metadata": {},
   "outputs": [
    {
     "name": "stdout",
     "output_type": "stream",
     "text": [
      "Wall time: 14.8 s\n"
     ]
    }
   ],
   "source": [
    "%time stats_declension('./texts/', 'output.txt')"
   ]
  },
  {
   "cell_type": "markdown",
   "metadata": {},
   "source": [
    "# Предобработка"
   ]
  },
  {
   "cell_type": "code",
   "execution_count": 1,
   "metadata": {},
   "outputs": [],
   "source": [
    "import re\n",
    "import os\n",
    "import win32com.client as win32\n",
    "from win32com.client import constants"
   ]
  },
  {
   "cell_type": "code",
   "execution_count": 14,
   "metadata": {},
   "outputs": [],
   "source": [
    "def save_as_docx(path):\n",
    "    # Opening MS Word\n",
    "    word = win32.gencache.EnsureDispatch('Word.Application')\n",
    "    doc = word.Documents.Open(path)\n",
    "    doc.Activate ()\n",
    "\n",
    "    # Rename path with .docx\n",
    "    new_file_abs = os.path.abspath(path)\n",
    "    new_file_abs = re.sub(r'\\.\\w+$', '.docx', new_file_abs)\n",
    "\n",
    "    # Save and Close\n",
    "    word.ActiveDocument.SaveAs(\n",
    "        new_file_abs, FileFormat=constants.wdFormatXMLDocument\n",
    "    )\n",
    "    doc.Close(False)\n",
    "\n",
    "def find_docs(path):\n",
    "    for root, dirs, files in os.walk (path):\n",
    "        for file in files:\n",
    "            if file[-4:] == '.doc':\n",
    "                filename = os.path.abspath(root+'/'+file)\n",
    "                save_as_docx(filename)\n",
    "                os.remove(filename)"
   ]
  },
  {
   "cell_type": "code",
   "execution_count": 15,
   "metadata": {},
   "outputs": [],
   "source": [
    "find_docs('./texts/')"
   ]
  },
  {
   "cell_type": "markdown",
   "metadata": {},
   "source": [
    "## Разные форматы"
   ]
  },
  {
   "cell_type": "code",
   "execution_count": 2,
   "metadata": {},
   "outputs": [],
   "source": [
    "def get_text(filename, mode):\n",
    "    if mode == 'txt':\n",
    "        with open(filename, 'r', encoding='utf-8') as f:\n",
    "            return clean_text(f.read())\n",
    "    elif mode == 'docx':\n",
    "        text = docx2txt.process(filename)\n",
    "        text = clean_text(text)\n",
    "        return text\n",
    "    else: print ('Error: '+ mode)"
   ]
  },
  {
   "cell_type": "code",
   "execution_count": 3,
   "metadata": {},
   "outputs": [],
   "source": [
    "def get_all_texts(path):\n",
    "    find_docs(path)\n",
    "    for root, dirs, files in os.walk (path):\n",
    "        for file in files:\n",
    "            mode = file.split('.')[-1]\n",
    "            text = get_text(os.path.abspath(root+'/'+file), mode)\n",
    "            #print (text[:100])\n",
    "            yield text"
   ]
  },
  {
   "cell_type": "code",
   "execution_count": 26,
   "metadata": {},
   "outputs": [
    {
     "name": "stdout",
     "output_type": "stream",
     "text": [
      "(2-3).docx\n",
      "(3-4).docx\n",
      "(4-5).docx\n",
      "(5-6).docx\n",
      "(6-7).docx\n",
      "lkjlj.txt\n"
     ]
    }
   ],
   "source": [
    "get_all_texts('./texts/')"
   ]
  },
  {
   "cell_type": "code",
   "execution_count": 4,
   "metadata": {},
   "outputs": [],
   "source": [
    "def one_text(text):\n",
    "    text = ' '.join(text.split())\n",
    "    analized = [x['analysis'][0] for x in m.analyze(text) if 'analysis' in x and x['analysis']]\n",
    "    result = defaultdict(lambda: [0, ''])\n",
    "    for i in analized:\n",
    "        lex = i['lex']\n",
    "        pos = i['gr'].split('=')[0].split(',')[0]\n",
    "        result[(lex, pos)][0] += 1\n",
    "        if pos == 'S':\n",
    "            result[(lex, pos)][1] = declension(i)\n",
    "    return result"
   ]
  },
  {
   "cell_type": "code",
   "execution_count": 5,
   "metadata": {},
   "outputs": [],
   "source": [
    "def all_text_lex_stats(path):\n",
    "    result = defaultdict(lambda: [0, ''])\n",
    "    for text in get_all_texts(path):\n",
    "        current = one_text(text)\n",
    "        for key in current:\n",
    "            result[key][0] += current[key][0]\n",
    "            result[key][1] = current[key][1]\n",
    "    with open ('frequency_list.txt','w',encoding='utf-8') as output:\n",
    "        output.write('lemma\\tPOS\\tfreq\\tdeclension\\n')\n",
    "        for key in sorted(result, key=lambda x: result[x][0], reverse=True):\n",
    "            s = '{}\\t{}\\n'.format(str('\\t'.join(key)), str('\\t'.join(str(i) for i in result[key])))\n",
    "            output.write(s)"
   ]
  },
  {
   "cell_type": "code",
   "execution_count": 87,
   "metadata": {},
   "outputs": [],
   "source": [
    "result = {'абак':['S', 1, '2'], 'бабушка':['S', 10, '', '1']}"
   ]
  },
  {
   "cell_type": "code",
   "execution_count": 92,
   "metadata": {},
   "outputs": [
    {
     "name": "stdout",
     "output_type": "stream",
     "text": [
      "абак\tS\t1\t2\n",
      "\n",
      "бабушка\tS\t10\t\t1\n",
      "\n"
     ]
    }
   ],
   "source": [
    "for key in sorted(result, key=lambda x: x[1], reverse=True):\n",
    "    print('{}\\t{}\\n'.format(str(key), str('\\t'.join(str(i) for i in result[key]))))"
   ]
  },
  {
   "cell_type": "code",
   "execution_count": 106,
   "metadata": {},
   "outputs": [
    {
     "name": "stdout",
     "output_type": "stream",
     "text": [
      "Wall time: 15.4 s\n"
     ]
    }
   ],
   "source": [
    "%time all_text_lex_stats('./texts/')"
   ]
  },
  {
   "cell_type": "markdown",
   "metadata": {},
   "source": [
    "# UDPipe"
   ]
  },
  {
   "cell_type": "code",
   "execution_count": 2,
   "metadata": {},
   "outputs": [],
   "source": [
    "import os"
   ]
  },
  {
   "cell_type": "code",
   "execution_count": 8,
   "metadata": {},
   "outputs": [],
   "source": [
    "import sys\n",
    "import ufal.udpipe\n",
    "# ufal.udpipe.Model etc. are SWIG-magic and cannot be detected by pylint\n",
    "# pylint: disable=no-member\n",
    "\n",
    "class Model:\n",
    "    def __init__(self, path):\n",
    "        \"\"\"Load given model.\"\"\"\n",
    "        self.model = ufal.udpipe.Model.load(path)\n",
    "        if not self.model:\n",
    "            raise Exception(\"Cannot load UDPipe model from file '%s'\" % path)\n",
    "\n",
    "    def tokenize(self, text):\n",
    "        \"\"\"Tokenize the text and return list of ufal.udpipe.Sentence-s.\"\"\"\n",
    "        tokenizer = self.model.newTokenizer(self.model.DEFAULT)\n",
    "        if not tokenizer:\n",
    "            raise Exception(\"The model does not have a tokenizer\")\n",
    "        return self._read(text, tokenizer)\n",
    "\n",
    "    def read(self, text, in_format):\n",
    "        \"\"\"Load text in the given format (conllu|horizontal|vertical) and return list of ufal.udpipe.Sentence-s.\"\"\"\n",
    "        input_format = ufal.udpipe.InputFormat.newInputFormat(in_format)\n",
    "        if not input_format:\n",
    "            raise Exception(\"Cannot create input format '%s'\" % in_format)\n",
    "        return self._read(text, input_format)\n",
    "\n",
    "    def _read(self, text, input_format):\n",
    "        input_format.setText(text)\n",
    "        error = ufal.udpipe.ProcessingError()\n",
    "        sentences = []\n",
    "\n",
    "        sentence = ufal.udpipe.Sentence()\n",
    "        while input_format.nextSentence(sentence, error):\n",
    "            sentences.append(sentence)\n",
    "            sentence = ufal.udpipe.Sentence()\n",
    "        if error.occurred():\n",
    "            raise Exception(error.message)\n",
    "\n",
    "        return sentences\n",
    "\n",
    "    def tag(self, sentence):\n",
    "        \"\"\"Tag the given ufal.udpipe.Sentence (inplace).\"\"\"\n",
    "        self.model.tag(sentence, self.model.DEFAULT)\n",
    "\n",
    "    def parse(self, sentence):\n",
    "        \"\"\"Parse the given ufal.udpipe.Sentence (inplace).\"\"\"\n",
    "        self.model.parse(sentence, self.model.DEFAULT)\n",
    "\n",
    "    def write(self, sentences, out_format):\n",
    "        \"\"\"Write given ufal.udpipe.Sentence-s in the required format (conllu|horizontal|vertical).\"\"\"\n",
    "\n",
    "        output_format = ufal.udpipe.OutputFormat.newOutputFormat(out_format)\n",
    "        output = ''\n",
    "        for sentence in sentences:\n",
    "            output += output_format.writeSentence(sentence)\n",
    "        output += output_format.finishDocument()\n",
    "\n",
    "        return output\n",
    "\n",
    "# Can be used as\n",
    "#  model = Model('english-ud-1.2-160523.udpipe')\n",
    "#  sentences = model.tokenize(\"Hi there. How are you?\")\n",
    "#  for s in sentences:\n",
    "#      model.tag(s)\n",
    "#      model.parse(s)\n",
    "#  conllu = model.write(sentences, \"conllu\")"
   ]
  },
  {
   "cell_type": "code",
   "execution_count": 14,
   "metadata": {},
   "outputs": [],
   "source": [
    "model = Model('russian-syntagrus-ud-2.0-170801.udpipe')\n",
    "sentences = model.tokenize(\"Мама, дочь пошли домой\")\n",
    "for s in sentences:\n",
    "    model.tag(s)\n",
    "    model.parse(s)\n",
    "conllu = model.write(sentences, \"conllu\")"
   ]
  },
  {
   "cell_type": "code",
   "execution_count": 15,
   "metadata": {},
   "outputs": [
    {
     "name": "stdout",
     "output_type": "stream",
     "text": [
      "# newdoc\n",
      "# newpar\n",
      "# sent_id = 1\n",
      "# text = Мама, дочь пошли домой\n",
      "1\tМама\tмама\tNOUN\t_\tAnimacy=Anim|Case=Nom|Gender=Fem|Number=Sing\t4\tnsubj\t_\tSpaceAfter=No\n",
      "2\t,\t,\tPUNCT\t_\t_\t1\tpunct\t_\t_\n",
      "3\tдочь\tдочь\tNOUN\t_\tAnimacy=Anim|Case=Nom|Gender=Fem|Number=Sing\t1\tappos\t_\t_\n",
      "4\tпошли\tпойти\tVERB\t_\tAspect=Perf|Mood=Ind|Number=Plur|Tense=Past|VerbForm=Fin|Voice=Act\t0\troot\t_\t_\n",
      "5\tдомой\tдомой\tADV\t_\tDegree=Pos\t4\tadvmod\t_\tSpaceAfter=No\n",
      "\n",
      "\n"
     ]
    }
   ],
   "source": [
    "print(conllu)"
   ]
  },
  {
   "cell_type": "code",
   "execution_count": 7,
   "metadata": {},
   "outputs": [],
   "source": [
    "def texts_for_udpipe(path):\n",
    "    for root, dirs, files in os.walk (path):\n",
    "        for file in files:\n",
    "            text = docx2txt.process(root+'/'+file)\n",
    "            text = clean_text(text)\n",
    "            yield text, file"
   ]
  },
  {
   "cell_type": "code",
   "execution_count": 6,
   "metadata": {},
   "outputs": [],
   "source": [
    "import os\n",
    "os.makedirs('conllu')"
   ]
  },
  {
   "cell_type": "code",
   "execution_count": 9,
   "metadata": {},
   "outputs": [],
   "source": [
    "def save_all_conllu(path):\n",
    "    model = Model('russian-syntagrus-ud-2.0-170801.udpipe')\n",
    "    for text, file in texts_for_udpipe(path):\n",
    "        sentences = model.tokenize(text)\n",
    "        for s in sentences:\n",
    "            model.tag(s)\n",
    "            model.parse(s)\n",
    "        conllu = model.write(sentences, \"conllu\")\n",
    "        with open('./conllu/{}.txt'.format(file[:-5]), 'w', encoding='utf-8') as f:\n",
    "            f.write(conllu)"
   ]
  },
  {
   "cell_type": "code",
   "execution_count": 18,
   "metadata": {},
   "outputs": [
    {
     "data": {
      "text/plain": [
       "'d'"
      ]
     },
     "execution_count": 18,
     "metadata": {},
     "output_type": "execute_result"
    }
   ],
   "source": [
    "'d.docx'[:-5]"
   ]
  },
  {
   "cell_type": "code",
   "execution_count": 17,
   "metadata": {},
   "outputs": [
    {
     "name": "stdout",
     "output_type": "stream",
     "text": [
      "CPU times: user 2min 11s, sys: 159 ms, total: 2min 11s\n",
      "Wall time: 2min 15s\n"
     ]
    }
   ],
   "source": [
    "%time save_all_conllu('./texts/')"
   ]
  },
  {
   "cell_type": "code",
   "execution_count": 24,
   "metadata": {},
   "outputs": [
    {
     "name": "stdout",
     "output_type": "stream",
     "text": [
      "# newdoc\n",
      "# newpar\n",
      "# sent_id = 1\n",
      "# text = На дорожку не садись.\n",
      "1 На на ADP _ _ 2 case _ _\n",
      "2 дорожку дорожка NOUN _ Animacy=Inan|Case=Acc|Gender=Fem|Number=Sing 4 obl _ _\n",
      "3 не не PART _ _ 4 advmod _ _\n",
      "4 садись садиться VERB _ Aspect=Imp|Mood=Imp|Number=Sing|Person=2|VerbForm=Fin|Voice=Mid 0 root _ SpaceAfter=No\n",
      "5 . . PUNCT _ _ 4 punct _ SpaceAfter=No\n",
      "\n",
      "\n"
     ]
    }
   ],
   "source": [
    "model = Model('russian-syntagrus-ud-2.0-170801.udpipe')\n",
    "sentences = model.tokenize(\"На дорожку не садись.\")\n",
    "for s in sentences:\n",
    "    model.tag(s)\n",
    "    model.parse(s)\n",
    "conllu = model.write(sentences, \"conllu\")\n",
    "print(conllu.replace('\\t',' '))"
   ]
  },
  {
   "cell_type": "code",
   "execution_count": 4,
   "metadata": {},
   "outputs": [],
   "source": [
    "from nltk.grammar import DependencyGrammar\n",
    "from nltk.parse import DependencyGraph"
   ]
  },
  {
   "cell_type": "code",
   "execution_count": 46,
   "metadata": {},
   "outputs": [
    {
     "name": "stdout",
     "output_type": "stream",
     "text": [
      "# text = Якутская народная сказка «Как белка и заяц друг друга не узнали» Как-то летом познакомились белка и заяц и подружились.\n"
     ]
    },
    {
     "name": "stderr",
     "output_type": "stream",
     "text": [
      "C:\\Users\\Glaz\\Anaconda3\\lib\\site-packages\\nltk\\parse\\dependencygraph.py:380: UserWarning: The graph doesn't contain a node that depends on the root element.\n",
      "  \"The graph doesn't contain a node \"\n"
     ]
    },
    {
     "data": {
      "text/plain": [
       "defaultdict(<function nltk.parse.dependencygraph.DependencyGraph.__init__.<locals>.<lambda>()>,\n",
       "            {0: {'address': 0,\n",
       "              'word': None,\n",
       "              'lemma': None,\n",
       "              'ctag': 'TOP',\n",
       "              'tag': 'TOP',\n",
       "              'feats': None,\n",
       "              'head': None,\n",
       "              'deps': defaultdict(list, {'root': [14], 'ROOT': []}),\n",
       "              'rel': None},\n",
       "             1: {'address': 1,\n",
       "              'word': 'Якутская',\n",
       "              'lemma': 'Якутский',\n",
       "              'ctag': 'ADJ',\n",
       "              'tag': '_',\n",
       "              'feats': 'Case=Nom|Degree=Pos|Gender=Fem|Number=Sing',\n",
       "              'head': 3,\n",
       "              'deps': defaultdict(list, {}),\n",
       "              'rel': 'amod'},\n",
       "             3: {'address': 3,\n",
       "              'word': 'сказка',\n",
       "              'lemma': 'сказка',\n",
       "              'ctag': 'NOUN',\n",
       "              'tag': '_',\n",
       "              'feats': 'Animacy=Inan|Case=Nom|Gender=Fem|Number=Sing',\n",
       "              'head': 14,\n",
       "              'deps': defaultdict(list, {'amod': [1, 2], 'conj': [5, 7]}),\n",
       "              'rel': 'nsubj'},\n",
       "             2: {'address': 2,\n",
       "              'word': 'народная',\n",
       "              'lemma': 'народный',\n",
       "              'ctag': 'ADJ',\n",
       "              'tag': '_',\n",
       "              'feats': 'Case=Nom|Degree=Pos|Gender=Fem|Number=Sing',\n",
       "              'head': 3,\n",
       "              'deps': defaultdict(list, {}),\n",
       "              'rel': 'amod'},\n",
       "             14: {'address': 14,\n",
       "              'word': 'познакомились',\n",
       "              'lemma': 'знакомиться',\n",
       "              'ctag': 'VERB',\n",
       "              'tag': '_',\n",
       "              'feats': 'Aspect=Perf|Mood=Ind|Number=Plur|Tense=Past|VerbForm=Fin|Voice=Mid',\n",
       "              'head': 0,\n",
       "              'deps': defaultdict(list,\n",
       "                          {'nsubj': [3, 15],\n",
       "                           'amod': [11],\n",
       "                           'advmod': [12],\n",
       "                           'obl': [13],\n",
       "                           'conj': [19]}),\n",
       "              'rel': 'root'},\n",
       "             4: {'address': 4,\n",
       "              'word': '«Как',\n",
       "              'lemma': '«Как',\n",
       "              'ctag': 'CCONJ',\n",
       "              'tag': '_',\n",
       "              'feats': '_',\n",
       "              'head': 5,\n",
       "              'deps': defaultdict(list, {}),\n",
       "              'rel': 'cc'},\n",
       "             5: {'address': 5,\n",
       "              'word': 'белка',\n",
       "              'lemma': 'белок',\n",
       "              'ctag': 'NOUN',\n",
       "              'tag': '_',\n",
       "              'feats': 'Animacy=Inan|Case=Nom|Gender=Fem|Number=Sing',\n",
       "              'head': 3,\n",
       "              'deps': defaultdict(list, {'cc': [4]}),\n",
       "              'rel': 'conj'},\n",
       "             6: {'address': 6,\n",
       "              'word': 'и',\n",
       "              'lemma': 'и',\n",
       "              'ctag': 'CCONJ',\n",
       "              'tag': '_',\n",
       "              'feats': '_',\n",
       "              'head': 7,\n",
       "              'deps': defaultdict(list, {}),\n",
       "              'rel': 'cc'},\n",
       "             7: {'address': 7,\n",
       "              'word': 'заяц',\n",
       "              'lemma': 'заяц',\n",
       "              'ctag': 'NOUN',\n",
       "              'tag': '_',\n",
       "              'feats': 'Animacy=Inan|Case=Nom|Gender=Masc|Number=Sing',\n",
       "              'head': 3,\n",
       "              'deps': defaultdict(list, {'cc': [6], 'nmod': [9]}),\n",
       "              'rel': 'conj'},\n",
       "             8: {'address': 8,\n",
       "              'word': 'друг',\n",
       "              'lemma': 'друг',\n",
       "              'ctag': 'NOUN',\n",
       "              'tag': '_',\n",
       "              'feats': 'Animacy=Anim|Case=Nom|Gender=Masc|Number=Sing',\n",
       "              'head': 9,\n",
       "              'deps': defaultdict(list, {}),\n",
       "              'rel': 'fixed'},\n",
       "             9: {'address': 9,\n",
       "              'word': 'друга',\n",
       "              'lemma': 'друг',\n",
       "              'ctag': 'NOUN',\n",
       "              'tag': '_',\n",
       "              'feats': 'Animacy=Anim|Case=Gen|Gender=Masc|Number=Sing',\n",
       "              'head': 7,\n",
       "              'deps': defaultdict(list, {'fixed': [8]}),\n",
       "              'rel': 'nmod'},\n",
       "             10: {'address': 10,\n",
       "              'word': 'не',\n",
       "              'lemma': 'не',\n",
       "              'ctag': 'PART',\n",
       "              'tag': '_',\n",
       "              'feats': '_',\n",
       "              'head': 11,\n",
       "              'deps': defaultdict(list, {}),\n",
       "              'rel': 'advmod'},\n",
       "             11: {'address': 11,\n",
       "              'word': 'узнали»',\n",
       "              'lemma': 'узнали»',\n",
       "              'ctag': 'ADJ',\n",
       "              'tag': '_',\n",
       "              'feats': 'Case=Gen|Degree=Pos|Number=Plur',\n",
       "              'head': 14,\n",
       "              'deps': defaultdict(list, {'advmod': [10]}),\n",
       "              'rel': 'amod'},\n",
       "             12: {'address': 12,\n",
       "              'word': 'Как-то',\n",
       "              'lemma': 'Как-то',\n",
       "              'ctag': 'ADV',\n",
       "              'tag': '_',\n",
       "              'feats': 'Degree=Pos',\n",
       "              'head': 14,\n",
       "              'deps': defaultdict(list, {}),\n",
       "              'rel': 'advmod'},\n",
       "             13: {'address': 13,\n",
       "              'word': 'летом',\n",
       "              'lemma': 'лето',\n",
       "              'ctag': 'NOUN',\n",
       "              'tag': '_',\n",
       "              'feats': 'Animacy=Inan|Case=Ins|Gender=Neut|Number=Sing',\n",
       "              'head': 14,\n",
       "              'deps': defaultdict(list, {}),\n",
       "              'rel': 'obl'},\n",
       "             15: {'address': 15,\n",
       "              'word': 'белка',\n",
       "              'lemma': 'белок',\n",
       "              'ctag': 'NOUN',\n",
       "              'tag': '_',\n",
       "              'feats': 'Animacy=Inan|Case=Nom|Gender=Fem|Number=Sing',\n",
       "              'head': 14,\n",
       "              'deps': defaultdict(list, {'conj': [17]}),\n",
       "              'rel': 'nsubj'},\n",
       "             16: {'address': 16,\n",
       "              'word': 'и',\n",
       "              'lemma': 'и',\n",
       "              'ctag': 'CCONJ',\n",
       "              'tag': '_',\n",
       "              'feats': '_',\n",
       "              'head': 17,\n",
       "              'deps': defaultdict(list, {}),\n",
       "              'rel': 'cc'},\n",
       "             17: {'address': 17,\n",
       "              'word': 'заяц',\n",
       "              'lemma': 'заяц',\n",
       "              'ctag': 'NOUN',\n",
       "              'tag': '_',\n",
       "              'feats': 'Animacy=Inan|Case=Nom|Gender=Masc|Number=Sing',\n",
       "              'head': 15,\n",
       "              'deps': defaultdict(list, {'cc': [16]}),\n",
       "              'rel': 'conj'},\n",
       "             18: {'address': 18,\n",
       "              'word': 'и',\n",
       "              'lemma': 'и',\n",
       "              'ctag': 'CCONJ',\n",
       "              'tag': '_',\n",
       "              'feats': '_',\n",
       "              'head': 19,\n",
       "              'deps': defaultdict(list, {}),\n",
       "              'rel': 'cc'},\n",
       "             19: {'address': 19,\n",
       "              'word': 'подружились',\n",
       "              'lemma': 'подружиться',\n",
       "              'ctag': 'VERB',\n",
       "              'tag': '_',\n",
       "              'feats': 'Aspect=Perf|Mood=Ind|Number=Plur|Tense=Past|VerbForm=Fin|Voice=Mid',\n",
       "              'head': 14,\n",
       "              'deps': defaultdict(list, {'cc': [18], 'punct': [20]}),\n",
       "              'rel': 'conj'},\n",
       "             20: {'address': 20,\n",
       "              'word': '.',\n",
       "              'lemma': '.',\n",
       "              'ctag': 'PUNCT',\n",
       "              'tag': '_',\n",
       "              'feats': '_',\n",
       "              'head': 19,\n",
       "              'deps': defaultdict(list, {}),\n",
       "              'rel': 'punct'}})"
      ]
     },
     "execution_count": 46,
     "metadata": {},
     "output_type": "execute_result"
    }
   ],
   "source": [
    "s = sentences[455]\n",
    "s = s.split('\\n')\n",
    "print (s[1])\n",
    "d = DependencyGraph(s[2:])\n",
    "d.nodes"
   ]
  },
  {
   "cell_type": "code",
   "execution_count": 10,
   "metadata": {},
   "outputs": [
    {
     "name": "stdout",
     "output_type": "stream",
     "text": [
      "27 Я тобою дорожу, Я тебя не завожу.\n",
      "\t\t {'завожу': {'conj', 'nsubj', 'root', 'obj'}}\n"
     ]
    },
    {
     "name": "stderr",
     "output_type": "stream",
     "text": [
      "C:\\Users\\Glaz\\Anaconda3\\lib\\site-packages\\nltk\\parse\\dependencygraph.py:380: UserWarning: The graph doesn't contain a node that depends on the root element.\n",
      "  \"The graph doesn't contain a node \"\n"
     ]
    }
   ],
   "source": [
    "check(27, sentences[27])"
   ]
  },
  {
   "cell_type": "code",
   "execution_count": 37,
   "metadata": {},
   "outputs": [
    {
     "name": "stderr",
     "output_type": "stream",
     "text": [
      "C:\\Users\\Glaz\\Anaconda3\\lib\\site-packages\\nltk\\parse\\dependencygraph.py:380: UserWarning: The graph doesn't contain a node that depends on the root element.\n",
      "  \"The graph doesn't contain a node \"\n"
     ]
    },
    {
     "data": {
      "text/plain": [
       "[['root', 'ROOT'],\n",
       " [],\n",
       " ['nsubj', 'obl', 'punct', 'conj'],\n",
       " [],\n",
       " [],\n",
       " [],\n",
       " ['nsubj', 'obj', 'advmod', 'punct'],\n",
       " [],\n",
       " [],\n",
       " []]"
      ]
     },
     "execution_count": 37,
     "metadata": {},
     "output_type": "execute_result"
    }
   ],
   "source": [
    "s = sentences[27]\n",
    "s = s.split('\\n')\n",
    "graph = DependencyGraph(s[2:])\n",
    "l = []\n",
    "for i in graph.nodes:\n",
    "    l.append(list(graph.nodes[i]['deps']))\n",
    "    \n",
    "l"
   ]
  },
  {
   "cell_type": "code",
   "execution_count": 36,
   "metadata": {},
   "outputs": [
    {
     "data": {
      "text/plain": [
       "defaultdict(<function nltk.parse.dependencygraph.DependencyGraph.__init__.<locals>.<lambda>()>,\n",
       "            {0: {'address': 0,\n",
       "              'word': None,\n",
       "              'lemma': None,\n",
       "              'ctag': 'TOP',\n",
       "              'tag': 'TOP',\n",
       "              'feats': None,\n",
       "              'head': None,\n",
       "              'deps': defaultdict(list, {'root': [3], 'ROOT': []}),\n",
       "              'rel': None},\n",
       "             3: {'address': 3,\n",
       "              'word': 'дорожу',\n",
       "              'lemma': 'дорожать',\n",
       "              'ctag': 'VERB',\n",
       "              'tag': '_',\n",
       "              'feats': 'Aspect=Imp|Mood=Ind|Number=Sing|Person=1|Tense=Pres|VerbForm=Fin|Voice=Act',\n",
       "              'head': 0,\n",
       "              'deps': defaultdict(list, {'punct': [4], 'conj': [8]}),\n",
       "              'rel': 'root'},\n",
       "             4: {'address': 4,\n",
       "              'word': ',',\n",
       "              'lemma': ',',\n",
       "              'ctag': 'PUNCT',\n",
       "              'tag': '_',\n",
       "              'feats': '_',\n",
       "              'head': 3,\n",
       "              'deps': defaultdict(list, {}),\n",
       "              'rel': 'punct'},\n",
       "             5: {'address': 5,\n",
       "              'word': 'Я',\n",
       "              'lemma': 'я',\n",
       "              'ctag': 'PRON',\n",
       "              'tag': '_',\n",
       "              'feats': 'Case=Nom|Number=Sing|Person=1',\n",
       "              'head': 8,\n",
       "              'deps': defaultdict(list, {}),\n",
       "              'rel': 'nsubj'},\n",
       "             8: {'address': 8,\n",
       "              'word': 'завожу',\n",
       "              'lemma': 'завожать',\n",
       "              'ctag': 'VERB',\n",
       "              'tag': '_',\n",
       "              'feats': 'Aspect=Imp|Mood=Ind|Number=Sing|Person=1|Tense=Pres|VerbForm=Fin|Voice=Act',\n",
       "              'head': 3,\n",
       "              'deps': defaultdict(list,\n",
       "                          {'nsubj': [5],\n",
       "                           'obj': [6],\n",
       "                           'advmod': [7],\n",
       "                           'punct': [9]}),\n",
       "              'rel': 'conj'},\n",
       "             6: {'address': 6,\n",
       "              'word': 'тебя',\n",
       "              'lemma': 'ты',\n",
       "              'ctag': 'PRON',\n",
       "              'tag': '_',\n",
       "              'feats': 'Case=Acc|Number=Sing|Person=2',\n",
       "              'head': 8,\n",
       "              'deps': defaultdict(list, {}),\n",
       "              'rel': 'obj'},\n",
       "             7: {'address': 7,\n",
       "              'word': 'не',\n",
       "              'lemma': 'не',\n",
       "              'ctag': 'PART',\n",
       "              'tag': '_',\n",
       "              'feats': '_',\n",
       "              'head': 8,\n",
       "              'deps': defaultdict(list, {}),\n",
       "              'rel': 'advmod'},\n",
       "             9: {'address': 9,\n",
       "              'word': '.',\n",
       "              'lemma': '.',\n",
       "              'ctag': 'PUNCT',\n",
       "              'tag': '_',\n",
       "              'feats': '_',\n",
       "              'head': 8,\n",
       "              'deps': defaultdict(list, {}),\n",
       "              'rel': 'punct'}})"
      ]
     },
     "execution_count": 36,
     "metadata": {},
     "output_type": "execute_result"
    }
   ],
   "source": [
    "graph.nodes"
   ]
  },
  {
   "cell_type": "code",
   "execution_count": 31,
   "metadata": {},
   "outputs": [
    {
     "data": {
      "text/plain": [
       "['__class__',\n",
       " '__contains__',\n",
       " '__copy__',\n",
       " '__delattr__',\n",
       " '__delitem__',\n",
       " '__dir__',\n",
       " '__doc__',\n",
       " '__eq__',\n",
       " '__format__',\n",
       " '__ge__',\n",
       " '__getattribute__',\n",
       " '__getitem__',\n",
       " '__gt__',\n",
       " '__hash__',\n",
       " '__init__',\n",
       " '__init_subclass__',\n",
       " '__iter__',\n",
       " '__le__',\n",
       " '__len__',\n",
       " '__lt__',\n",
       " '__missing__',\n",
       " '__ne__',\n",
       " '__new__',\n",
       " '__reduce__',\n",
       " '__reduce_ex__',\n",
       " '__repr__',\n",
       " '__setattr__',\n",
       " '__setitem__',\n",
       " '__sizeof__',\n",
       " '__str__',\n",
       " '__subclasshook__',\n",
       " 'clear',\n",
       " 'copy',\n",
       " 'default_factory',\n",
       " 'fromkeys',\n",
       " 'get',\n",
       " 'items',\n",
       " 'keys',\n",
       " 'pop',\n",
       " 'popitem',\n",
       " 'setdefault',\n",
       " 'update',\n",
       " 'values']"
      ]
     },
     "execution_count": 31,
     "metadata": {},
     "output_type": "execute_result"
    }
   ],
   "source": [
    "dir(graph.nodes[3]['deps'])"
   ]
  },
  {
   "cell_type": "markdown",
   "metadata": {},
   "source": [
    "# Определение типов"
   ]
  },
  {
   "cell_type": "code",
   "execution_count": 2,
   "metadata": {},
   "outputs": [],
   "source": [
    "from nltk.grammar import DependencyGrammar\n",
    "from nltk.parse import DependencyGraph"
   ]
  },
  {
   "cell_type": "code",
   "execution_count": 111,
   "metadata": {},
   "outputs": [],
   "source": [
    "def check(key, s):\n",
    "    #s = sentences[726]\n",
    "    s = s.split('\\n')\n",
    "    #print (s)\n",
    "    graph = DependencyGraph(s[2:])\n",
    "\n",
    "    tags = defaultdict(set)\n",
    "    links1 = set()\n",
    "    possible = []\n",
    "    for i in graph.nodes:\n",
    "        if i != 0:\n",
    "            deps = set()\n",
    "            for j in graph.nodes[i]['deps']:\n",
    "                if j in ('nsubj', 'nsubj:pass', 'iobj','obj','mark', 'ccomp') and graph.nodes[i]['rel'] != 'nsubj':\n",
    "                    deps.add(j)\n",
    "                if j in ('mark','cc'):\n",
    "                    full = graph.nodes[graph.nodes[i]['deps'][j][0]]['word']\n",
    "                    if 'fixed' in graph.nodes[graph.nodes[i]['deps'][j][0]]['deps']:\n",
    "                        for k in graph.nodes[graph.nodes[i]['deps'][j][0]]['deps']['fixed']:\n",
    "                            full = full + ' ' + graph.nodes[k]['word']\n",
    "                    pos = graph.nodes[i]['ctag']\n",
    "                    typ = graph.nodes[graph.nodes[i]['deps'][j][0]]['ctag']\n",
    "                    links1.add((pos, i, full, typ))\n",
    "                \n",
    "            if graph.nodes[i]['rel'] in ('ccomp', 'acl:relcl','acl','advcl', 'root') and graph.nodes[i]['ctag'] != 'NOUN': deps.add('is_'+graph.nodes[i]['rel'])\n",
    "            if graph.nodes[i]['rel'] == 'conj':\n",
    "                fi = [i for i in graph.nodes[i]['feats'].split('|') if i[:4] not in ('Voic','Aspe')]\n",
    "                se = [i for i in graph.nodes[graph.nodes[i]['head']]['feats'].split('|') if i[:4] not in ('Voic','Aspe')]\n",
    "                if f == s: \n",
    "                    if (deps&set(['nsubj','nsubj:pass'])) and (set(graph.nodes[graph.nodes[i]['head']]['deps'])&set(['nsubj','nsubj:pass'])): tags[i] = deps\n",
    "                    else: pass\n",
    "                elif deps: tags[i] = deps\n",
    "            elif deps: tags[i] = deps\n",
    "                \n",
    "    if len(tags) > 1:\n",
    "        dictionary = {graph.nodes[i]['word']+str(i) : tags[i] for i in tags.keys()}\n",
    "        links = defaultdict(set)\n",
    "        k = 0\n",
    "        for i in links1:\n",
    "            if i[1] in tags:\n",
    "                k += 1\n",
    "                links[i[2]].add((i[0], i[3]))\n",
    "        if links:\n",
    "            return key, s[1][9:], len(dictionary), k, links"
   ]
  },
  {
   "cell_type": "code",
   "execution_count": 65,
   "metadata": {},
   "outputs": [],
   "source": [
    "d = defaultdict(set)\n",
    "if 1 in d:\n",
    "    print ('yes')"
   ]
  },
  {
   "cell_type": "code",
   "execution_count": 112,
   "metadata": {},
   "outputs": [
    {
     "name": "stdout",
     "output_type": "stream",
     "text": [
      "(1, 'Кот на дырочке летел, Заяц крылышками пел, Стрекоза варила мех, А на крыше падал смех!', 4, 1, defaultdict(<class 'set'>, {'А': {('VERB', 'CCONJ')}}))\n",
      "(20, 'Игра игрой сменяется, Кончается игра, А дружба не кончается.', 3, 1, defaultdict(<class 'set'>, {'А': {('VERB', 'CCONJ')}}))\n",
      "(28, 'Чтобы ты не утомилась, Чтобы ты не простудилась, Чтоб не бегала в пыли, Спи, машина, не шали!', 4, 2, defaultdict(<class 'set'>, {'Чтоб': {('VERB', 'SCONJ')}, 'Чтобы': {('VERB', 'SCONJ')}}))\n",
      "(38, 'Головою покачал И сказал: — Почему болеет кузов?', 3, 1, defaultdict(<class 'set'>, {'И': {('VERB', 'CCONJ')}}))\n",
      "(40, 'Потому мотор простужен, Что мотору воздух нужен.', 2, 1, defaultdict(<class 'set'>, {'Что': {('VERB', 'SCONJ')}}))\n",
      "(48, 'Жалко, что кончаются Праздничные дни, Но не забываются Никогда они.', 3, 2, defaultdict(<class 'set'>, {'Но': {('VERB', 'CCONJ')}, 'что': {('ADJ', 'SCONJ')}}))\n",
      "(64, 'А козла туда, друзья, Ну, никак пускать нельзя.', 2, 1, defaultdict(<class 'set'>, {'А': {('VERB', 'CCONJ')}}))\n",
      "(67, 'Про него народ лесной Говорит, что он — портной.', 2, 1, defaultdict(<class 'set'>, {'что': {('VERB', 'SCONJ')}}))\n",
      "(68, 'Потому что, словно елка Он с рожденья весь в иголках.', 2, 2, defaultdict(<class 'set'>, {'Потому что': {('NOUN', 'ADV')}, 'словно': {('NOUN', 'SCONJ')}}))\n",
      "(91, 'И носятся слухи, Что белые мухи, Не только летают, Но даже — не тают!', 2, 1, defaultdict(<class 'set'>, {'И': {('VERB', 'CCONJ')}}))\n",
      "(102, 'Всю жизнь в воде проводит КИТ, Хотя он и не рыба.', 2, 1, defaultdict(<class 'set'>, {'Хотя': {('NOUN', 'SCONJ')}}))\n",
      "(108, 'Но бывает, что некогда маме, И обед себе варим мы сами, И тогда (Не пойму, в чем секрет!)', 3, 3, defaultdict(<class 'set'>, {'что': {('VERB', 'SCONJ')}, 'Но': {('VERB', 'CCONJ')}, 'И': {('VERB', 'CCONJ')}}))\n",
      "(128, 'А из Живота отвечают: — Я, Пышка-Ватрушка, А ты кто?', 2, 2, defaultdict(<class 'set'>, {'А': {('PRON', 'CCONJ'), ('VERB', 'CCONJ')}}))\n",
      "(131, 'И стали они жить вместе.', 2, 1, defaultdict(<class 'set'>, {'И': {('VERB', 'CCONJ')}}))\n",
      "(135, '— Я, Плюшка-Пампушка, А ты кто?', 2, 1, defaultdict(<class 'set'>, {'А': {('PRON', 'CCONJ')}}))\n",
      "(172, 'И, предупреждая всех на свете, Нажимал на пятачок: -ХРЮ-ХРЮ!', 2, 1, defaultdict(<class 'set'>, {'И': {('VERB', 'CCONJ')}}))\n",
      "(190, 'А если вы не поняли, То я не виноват!', 2, 3, defaultdict(<class 'set'>, {'То': {('VERB', 'SCONJ')}, 'А': {('ADJ', 'CCONJ')}, 'если': {('ADJ', 'SCONJ')}}))\n",
      "(194, 'Пусть любой увидит, Глядя на картинку, Как люблю я маму, Как рисую свинку!', 3, 1, defaultdict(<class 'set'>, {'Как': {('VERB', 'SCONJ')}}))\n",
      "(205, 'Но каждый, наверное, хочет Подарок, Который ходит!', 2, 1, defaultdict(<class 'set'>, {'Но': {('VERB', 'CCONJ')}}))\n",
      "(211, 'Я бегу к твоей волне, А волна бежит ко мне!..', 2, 1, defaultdict(<class 'set'>, {'А': {('VERB', 'CCONJ')}}))\n",
      "(222, 'Ну а если б даже знал, Ни за что бы не сказал!', 2, 2, defaultdict(<class 'set'>, {'а': {('VERB', 'CCONJ')}, 'если': {('VERB', 'SCONJ')}}))\n",
      "(224, 'Он мне сказал, что Дед Мороз Совсем не Дед Мороз!', 2, 1, defaultdict(<class 'set'>, {'что': {('VERB', 'SCONJ')}}))\n",
      "(226, 'Но тут сама Открылась дверь, И вдруг я вижу - Входит дед.', 4, 2, defaultdict(<class 'set'>, {'И': {('VERB', 'CCONJ')}, 'Но': {('VERB', 'CCONJ')}}))\n",
      "(229, 'Он говорит: - А елка где?', 2, 1, defaultdict(<class 'set'>, {'А': {('ADV', 'CCONJ')}}))\n",
      "(233, 'А старший брат твердит тайком: - Да это наш сосед!', 2, 1, defaultdict(<class 'set'>, {'А': {('VERB', 'CCONJ')}}))\n",
      "(237, 'А ты на бабушку похож, Но ты же не она!', 2, 2, defaultdict(<class 'set'>, {'А': {('ADJ', 'CCONJ')}, 'Но': {('PRON', 'CCONJ')}}))\n",
      "(238, 'Горит на солнышке Флажок, Как будто я Огонь зажег.', 2, 1, defaultdict(<class 'set'>, {'Как будто': {('VERB', 'SCONJ')}}))\n",
      "(243, 'Прозрачный лес один чернеет, И ель сквозь иней зеленеет, И речка подо льдом блестит...', 2, 1, defaultdict(<class 'set'>, {'И': {('VERB', 'CCONJ')}}))\n",
      "(248, 'К нам весна шагает быстрыми шагами, И сугробы тают Под ее ногами.', 2, 1, defaultdict(<class 'set'>, {'И': {('VERB', 'CCONJ')}}))\n",
      "(255, 'Жаль, что в речке, на воде, Нет следов твоих нигде.', 3, 1, defaultdict(<class 'set'>, {'что': {('ADV', 'SCONJ')}}))\n",
      "(271, 'Подошел я и спросил: — Кто же море посолил?', 3, 1, defaultdict(<class 'set'>, {'и': {('VERB', 'CCONJ')}}))\n",
      "(277, 'И совсем бы не смогли Плыть по морю корабли.', 2, 1, defaultdict(<class 'set'>, {'И': {('VERB', 'CCONJ')}}))\n",
      "(279, 'Поросенок ей попался очень умный и послушный, но почему-то говорить по-человечески он ни за что не хотел.', 4, 1, defaultdict(<class 'set'>, {'но': {('VERB', 'CCONJ')}}))\n",
      "(280, 'И девочка как ни старалась — ничего у нее не выходило.', 2, 1, defaultdict(<class 'set'>, {'И': {('VERB', 'CCONJ')}}))\n",
      "(295, 'А то ведь он еще маленький, ему трудно такие слова произносить.', 2, 1, defaultdict(<class 'set'>, {'А': {('ADJ', 'CCONJ')}}))\n",
      "(296, 'Она говорит: — А что попроще ?', 2, 1, defaultdict(<class 'set'>, {'А': {('ADJ', 'CCONJ')}}))\n",
      "(299, 'Девочка немного подумала и говорит: — Поросеночек, скажи, пожалуйста, «хрю-хрю»!', 2, 1, defaultdict(<class 'set'>, {'и': {('VERB', 'CCONJ')}}))\n",
      "(321, 'А я дудочку нашла, Пастушку я отдала.', 2, 1, defaultdict(<class 'set'>, {'А': {('VERB', 'CCONJ')}}))\n",
      "(339, 'И до того налились и пропитались солнцем, что к осени сами стали, как солнышки — багряными и золотыми».', 4, 3, defaultdict(<class 'set'>, {'и': {('VERB', 'CCONJ')}, 'что': {('VERB', 'SCONJ')}, 'И': {('VERB', 'CCONJ')}}))\n",
      "(350, 'Март голубой на дворе — пора яркого солнца и полосатых снегов; зиме — конец, а весне — начало.', 2, 1, defaultdict(<class 'set'>, {'а': {('NOUN', 'CCONJ')}}))\n",
      "(354, 'Не успеешь и глазом моргнуть, как все эти маленькие веснушки сольются в одну большую весну.', 2, 1, defaultdict(<class 'set'>, {'как': {('VERB', 'SCONJ')}}))\n",
      "(359, 'А то дунет ветер — поминай как звали.', 3, 2, defaultdict(<class 'set'>, {'как': {('VERB', 'SCONJ')}, 'А': {('VERB', 'CCONJ')}}))\n",
      "(377, 'Качнула березка веточками и сказала: — Я твоих козляток от зноя уберегу, от дождика спрячу, от ветра укрою.', 3, 1, defaultdict(<class 'set'>, {'и': {('VERB', 'CCONJ')}}))\n",
      "(383, '<…> Снежинки падали сладкие, пушистые и прежде, чем опуститься совсем, привставали на цыпочки.', 3, 1, defaultdict(<class 'set'>, {'чем': {('VERB', 'SCONJ')}}))\n",
      "(384, 'Ах как это было весело! <…> А снег все падал и падал.', 2, 1, defaultdict(<class 'set'>, {'А': {('VERB', 'CCONJ')}}))\n",
      "(385, 'Снежинки все чаще опускались Медвежонку на нос, приседали и, улыбаясь, говорили: «Здравствуй, Медвежонок!» <…> К вечеру он съел триста снежинок, и ему стало так холодно, что он едва добрался до берлоги и сразу уснул.', 7, 2, defaultdict(<class 'set'>, {'и': {('VERB', 'CCONJ')}, 'что': {('ADV', 'SCONJ')}}))\n",
      "(386, 'И ему приснилось, что он — пушистая, мягкая снежинка... <…> Всю зиму Медвежонок болел.', 3, 2, defaultdict(<class 'set'>, {'что': {('VERB', 'SCONJ')}, 'И': {('VERB', 'CCONJ')}}))\n",
      "(387, 'Нос у него был сухой и горячий, а в животе плясали снежинки.', 2, 1, defaultdict(<class 'set'>, {'а': {('VERB', 'CCONJ')}}))\n",
      "(388, 'И только весной, когда по всему лесу зазвенела капель и прилетели птицы, он открыл глаза и увидел на табуретке Ёжика.', 3, 2, defaultdict(<class 'set'>, {'и': {('VERB', 'CCONJ')}, 'И': {('VERB', 'CCONJ')}}))\n",
      "(391, '— Жду, когда ты выздоровеешь, — ответил Ёжик.', 3, 1, defaultdict(<class 'set'>, {'когда': {('VERB', 'SCONJ')}}))\n",
      "(394, 'Я, как узнал, что ты объелся снегом — сразу перетащил все свои припасы к тебе...', 3, 2, defaultdict(<class 'set'>, {'что': {('VERB', 'SCONJ')}, 'как': {('VERB', 'SCONJ')}}))\n",
      "(396, '— Да, я поил тебя еловым отваром и прикладывал к животу сушеную травку...', 2, 1, defaultdict(<class 'set'>, {'и': {('VERB', 'CCONJ')}}))\n",
      "(399, '— Ты всю зиму говорил, что ты — снежинка.', 2, 1, defaultdict(<class 'set'>, {'что': {('VERB', 'SCONJ')}}))\n",
      "(400, 'Я так боялся, что ты растаешь к весне...', 2, 1, defaultdict(<class 'set'>, {'что': {('VERB', 'SCONJ')}}))\n",
      "(404, 'Он учился маршировать, а дедушка командовал: «Раз, два!', 2, 1, defaultdict(<class 'set'>, {'а': {('VERB', 'CCONJ')}}))\n",
      "(422, 'Сидя на форточке, снег болтал ногами, а так как спинки у форточки не было, часто падал вниз... хватаясь за воздух растопыренными ручками-снежинками.', 4, 2, defaultdict(<class 'set'>, {'а': {('NOUN', 'CCONJ')}, 'так как': {('NOUN', 'ADV')}}))\n",
      "(423, 'И вот однажды, когда Снег привычно сидел на форточке, до него донеслись звуки Скрипки.', 2, 2, defaultdict(<class 'set'>, {'И': {('VERB', 'CCONJ')}, 'когда': {('VERB', 'SCONJ')}}))\n",
      "(430, 'В то время, когда они подошли к магазину, выгружали хлеб из машины.', 3, 1, defaultdict(<class 'set'>, {'когда': {('NOUN', 'SCONJ')}}))\n",
      "(431, 'Когда хлеб выгрузили, двери машины захлопнулись и заработал мотор.', 3, 2, defaultdict(<class 'set'>, {'и': {('VERB', 'CCONJ')}, 'Когда': {('VERB', 'SCONJ')}}))\n",
      "(435, 'Он понял, что произошло что-то неладное.', 2, 1, defaultdict(<class 'set'>, {'что': {('VERB', 'SCONJ')}}))\n",
      "(452, 'А потом отступили каждая на три шага, нагнули головы и ...', 3, 1, defaultdict(<class 'set'>, {'А': {('VERB', 'CCONJ')}}))\n",
      "(454, 'Столкнулись лбами и обе свалились в воду.', 2, 1, defaultdict(<class 'set'>, {'и': {('VERB', 'CCONJ')}}))\n",
      "(462, 'И заяц тоже не узнает белку: та была рыженькая, а эта — в серой шубке.', 2, 1, defaultdict(<class 'set'>, {'И': {('VERB', 'CCONJ')}}))\n",
      "(463, 'И только тогда друзья узнали друг друга, когда снова лето настало.', 2, 2, defaultdict(<class 'set'>, {'когда': {('VERB', 'SCONJ')}, 'И': {('VERB', 'CCONJ')}}))\n",
      "(471, 'Попросилась лиса ко мне жить, да меня же и выгнала.', 2, 1, defaultdict(<class 'set'>, {'да': {('VERB', 'CCONJ')}}))\n",
      "(480, 'Она то взлетала над кустом, то исчезала.', 2, 2, defaultdict(<class 'set'>, {'то': {('VERB', 'SCONJ')}}))\n",
      "(483, 'Охотник взял палку и отбросил ужа далеко в сторону.', 2, 1, defaultdict(<class 'set'>, {'и': {('VERB', 'CCONJ')}}))\n",
      "(486, 'А как это сделать, она не знала.', 2, 1, defaultdict(<class 'set'>, {'А': {('VERB', 'CCONJ')}}))\n",
      "(497, 'Да так хорошо подмела, что даже мама удивилась: — Машенька!', 2, 1, defaultdict(<class 'set'>, {'что': {('VERB', 'SCONJ')}}))\n",
      "(499, 'А когда Маша чисто-начисто вымыла посуду да сухо-насухо вытерла ее, тогда не только мама, но и отец удивился.', 4, 3, defaultdict(<class 'set'>, {'да': {('VERB', 'CCONJ')}, 'А': {('VERB', 'CCONJ')}, 'но': {('VERB', 'CCONJ')}}))\n",
      "(500, 'Удивился и при всех за столом сказал: — Мы и не заметили, как Мария выросла.', 4, 2, defaultdict(<class 'set'>, {'как': {('VERB', 'SCONJ')}, 'и': {('VERB', 'PART')}}))\n",
      "(503, 'И она себя взрослой чувствует, хотя и ходит в своих крошечных туфельках и в коротеньком платьице.', 2, 2, defaultdict(<class 'set'>, {'И': {('VERB', 'CCONJ')}, 'хотя': {('VERB', 'SCONJ')}}))\n",
      "(508, 'Бывает часто, что в городах на пожарах остаются дети в домах и их нельзя вытащить, потому что от испуга спрячутся и молчат, а от дыма нельзя их рассмотреть.', 5, 3, defaultdict(<class 'set'>, {'и': {('ADV', 'CCONJ')}, 'что': {('VERB', 'SCONJ')}, 'а': {('ADV', 'CCONJ')}}))\n",
      "(510, 'Собаки эти живут с пожарными, и когда загорится дом, то пожарные посылают собак вытаскивать детей.', 4, 3, defaultdict(<class 'set'>, {'и': {('VERB', 'CCONJ')}, 'то': {('VERB', 'SCONJ')}, 'когда': {('VERB', 'SCONJ')}}))\n",
      "(513, 'И когда пожарные приехали к дому, к ним выбежала женщина: она плакала и говорила, что в доме осталась двухлетняя девочка.', 5, 4, defaultdict(<class 'set'>, {'И': {('VERB', 'CCONJ')}, 'когда': {('VERB', 'SCONJ')}, 'что': {('VERB', 'SCONJ')}, 'и': {('VERB', 'CCONJ')}}))\n",
      "(516, 'Через пять минут он выбежал из дома и в зубах за рубашку нес девочку.', 2, 1, defaultdict(<class 'set'>, {'и': {('VERB', 'CCONJ')}}))\n",
      "(517, 'Мать бросилась к дочери и плакала от радости, что дочь была жива.', 3, 2, defaultdict(<class 'set'>, {'и': {('VERB', 'CCONJ')}, 'что': {('VERB', 'SCONJ')}}))\n",
      "(518, 'Пожарные ласкали собаку и осматривали ее - не обгорела ли она; но Боб рвался опять в дом.', 4, 2, defaultdict(<class 'set'>, {'но': {('VERB', 'CCONJ')}, 'и': {('VERB', 'CCONJ')}}))\n",
      "(519, 'Пожарные подумали, что в доме еще есть что-нибудь живое, и пустили его.', 3, 2, defaultdict(<class 'set'>, {'что': {('VERB', 'SCONJ')}, 'и': {('VERB', 'CCONJ')}}))\n",
      "(521, 'Когда народ рассмотрел то, что она несла, то все расхохотались: она несла большую куклу.', 5, 3, defaultdict(<class 'set'>, {'что': {('PRON', 'SCONJ')}, 'то': {('VERB', 'SCONJ')}, 'Когда': {('VERB', 'SCONJ')}}))\n",
      "(525, 'Она стала кидать в кувшин камушки и столько накидала, что вода стала выше и можно было пить.', 4, 3, defaultdict(<class 'set'>, {'и': {('ADV', 'CCONJ'), ('VERB', 'CCONJ')}, 'что': {('VERB', 'SCONJ')}}))\n",
      "(526, 'Пришел длинноухий к речке, а вода холодная.', 2, 1, defaultdict(<class 'set'>, {'а': {('ADJ', 'CCONJ')}}))\n",
      "(528, '.» Выглянул из воды лягушонок и спросил: — Чего вы тут кричите: бр-р-р?.', 3, 1, defaultdict(<class 'set'>, {'и': {('VERB', 'CCONJ')}}))\n",
      "(529, 'Ослику стало стыдно, что он боится холодной воды, и он вдруг ответил: — А я, я потому это брр...', 5, 1, defaultdict(<class 'set'>, {'и': {('VERB', 'CCONJ')}}))\n",
      "(535, '— А простите, пожалуйста, — опять спросил лягушонок, — а кроме бревен, вы что-нибудь еще можете есть?', 2, 1, defaultdict(<class 'set'>, {'А': {('VERB', 'CCONJ')}}))\n",
      "(538, '— Ну а почему тогда, — заквакал лягушонок, — вы такой худой?', 2, 1, defaultdict(<class 'set'>, {'а': {('VERB', 'CCONJ')}}))\n",
      "(540, 'Я пришел, а он ушел.', 2, 1, defaultdict(<class 'set'>, {'а': {('VERB', 'CCONJ')}}))\n",
      "(544, 'И если там долго греть живот, он растает и вместо паровоза получится корыто.', 3, 3, defaultdict(<class 'set'>, {'если': {('VERB', 'SCONJ')}, 'и': {('VERB', 'CCONJ')}, 'И': {('VERB', 'CCONJ')}}))\n",
      "(558, 'Но если ты не будешь мыться, явится настоящий, крокодил и съест тебя.', 3, 3, defaultdict(<class 'set'>, {'Но': {('VERB', 'CCONJ')}, 'и': {('VERB', 'CCONJ')}, 'если': {('VERB', 'SCONJ')}}))\n",
      "(562, 'Эта история о том, как крокодил ждал, когда из яйца появится маленький крокодильчик.', 3, 1, defaultdict(<class 'set'>, {'когда': {('VERB', 'SCONJ')}}))\n",
      "(567, 'Но крокодил полюбил птенца и никому не давал его в обиду.', 3, 2, defaultdict(<class 'set'>, {'Но': {('VERB', 'CCONJ')}, 'и': {('VERB', 'CCONJ')}}))\n",
      "(568, 'Крокодил очень волновался, когда птенец начал летать.', 3, 1, defaultdict(<class 'set'>, {'когда': {('VERB', 'SCONJ')}}))\n",
      "(579, 'А птица подбадривала его: — Все хорошо, папа.', 2, 1, defaultdict(<class 'set'>, {'А': {('VERB', 'CCONJ')}}))\n",
      "(580, 'Работай лапами, как будто в воде плывешь.', 2, 1, defaultdict(<class 'set'>, {'как будто': {('VERB', 'SCONJ')}}))\n",
      "(582, 'Настала весна, солнце согнало снег с полей; в пожелтевшей прошлогодней травке проглядывали свежие, ярко-зеленые стебельки; почки на деревьях раскрывались и выпускали молоденькие листочки.', 5, 1, defaultdict(<class 'set'>, {'и': {('VERB', 'CCONJ')}}))\n",
      "(583, 'Вот проснулась и пчелка от своего зимнего сна, прочистила глазки мохнатыми лапками, разбудила подругу, и выглянули они в окошечко — разведать: ушел ли снег, и лед, и холодный северный ветер?', 6, 1, defaultdict(<class 'set'>, {'и': {('VERB', 'CCONJ')}}))\n",
      "(593, 'Печальные и голодные пчелки хотели уже домой лететь, как увидели под кустиком скромный, темно-синий цветочек: это была фиалочка.', 4, 1, defaultdict(<class 'set'>, {'как': {('VERB', 'SCONJ')}}))\n",
      "(598, 'Все улицы были украшены электрическими лампочками и флагами, и дома были похожи на дворцы из сказки.', 2, 1, defaultdict(<class 'set'>, {'и': {('ADJ', 'CCONJ')}}))\n",
      "(599, 'Вдруг всё небо осветилось и раздался залп — выстрелило много пушек.', 2, 1, defaultdict(<class 'set'>, {'и': {('VERB', 'CCONJ')}}))\n",
      "(600, 'У нас зазвенели стёкла, и сразу в небо полетели разноцветные звёзды.', 2, 1, defaultdict(<class 'set'>, {'и': {('VERB', 'CCONJ')}}))\n",
      "(602, 'Потом звёздочки затрещали и погасли, немного потемнело, и снова прогремели пушки, и в небо опять полетели звёзды — красные, синие, зелёные...', 4, 2, defaultdict(<class 'set'>, {'и': {('VERB', 'CCONJ')}}))\n",
      "(604, 'А мы с Машей совсем не боялись и даже потушили в комнате электричество, чтобы лучше видеть салют.', 3, 3, defaultdict(<class 'set'>, {'А': {('VERB', 'CCONJ')}, 'чтобы': {('VERB', 'SCONJ')}, 'и': {('VERB', 'CCONJ')}}))\n",
      "(606, 'Во время салюта по небу бегало много лучей из прожекторов, они по-всякому переплетались и кружились, как будто в хороводе.', 3, 1, defaultdict(<class 'set'>, {'как будто': {('NOUN', 'SCONJ')}}))\n",
      "(607, 'Мы не отходили от окна, пока не прогремели все двадцать залпов, и очень довольные пошли спать.', 2, 1, defaultdict(<class 'set'>, {'пока': {('VERB', 'SCONJ')}}))\n",
      "(634, 'Дело в том, что самосвалом Был Алеша, славный малый Сколько лет ему?', 2, 1, defaultdict(<class 'set'>, {'что': {('PRON', 'SCONJ')}}))\n",
      "(636, 'Самосвал сигналит громко: – У меня сейчас поломка, Но с утра я снова в путь.', 3, 1, defaultdict(<class 'set'>, {'Но': {('NOUN', 'CCONJ')}}))\n",
      "(650, '– Раз ты волк, так ты не трусь, ― Закричал на волка гусь.', 2, 1, defaultdict(<class 'set'>, {'Раз': {('VERB', 'SCONJ')}}))\n",
      "(655, 'В саду пожелтели Осыпались клены, И только скамейка Осталась зеленой.', 2, 1, defaultdict(<class 'set'>, {'И': {('VERB', 'CCONJ')}}))\n",
      "(656, 'Стоит она В тихой аллейке, И дождик Стучит по скамейке.', 2, 1, defaultdict(<class 'set'>, {'И': {('VERB', 'CCONJ')}}))\n",
      "(661, 'Мы вчера играли в стадо, И рычать нам было надо.', 2, 1, defaultdict(<class 'set'>, {'И': {('ADV', 'CCONJ')}}))\n",
      "(663, 'А она сказала строго: – Что за шум такой у вас?', 2, 1, defaultdict(<class 'set'>, {'А': {('VERB', 'CCONJ')}}))\n",
      "(669, 'И всегда мычат коровы, Отгоняя мух.', 2, 1, defaultdict(<class 'set'>, {'И': {('VERB', 'CCONJ')}}))\n",
      "(670, 'А она в ответ: — Да что вы?', 2, 1, defaultdict(<class 'set'>, {'А': {('NOUN', 'CCONJ')}}))\n",
      "(671, 'Ладно, если вы коровы, Я тогда — пастух.', 2, 1, defaultdict(<class 'set'>, {'если': {('ADJ', 'SCONJ')}}))\n",
      "(679, 'И сейчас средь великанов, Тех, что знает вся страна, Жив-здоров Степан Степанов Бывший флотский старшина.', 2, 1, defaultdict(<class 'set'>, {'И': {('VERB', 'CCONJ')}}))\n",
      "(682, 'Он идёт из отделенья, И какой-то пионер Рот раскрыл от изумленья: \"Вот так ми-ли-ци-о-нер!\"', 3, 1, defaultdict(<class 'set'>, {'И': {('VERB', 'CCONJ')}}))\n",
      "(688, 'Если встанет на посту, Все увидят за версту!', 2, 1, defaultdict(<class 'set'>, {'Если': {('VERB', 'SCONJ')}}))\n",
      "(690, 'Загорелся жёлтый свет, А зелёного всё нет...', 2, 1, defaultdict(<class 'set'>, {'А': {('VERB', 'CCONJ')}}))\n",
      "(699, 'Нам ребята рассказали, Что Степана с этих пор Малыши в Москве прозвали: Дядя Стёпа - Светофор.', 2, 1, defaultdict(<class 'set'>, {'Что': {('VERB', 'SCONJ')}}))\n",
      "(704, 'Все милицию зовут, А она уж тут как тут!', 2, 1, defaultdict(<class 'set'>, {'А': {('ADV', 'CCONJ')}}))\n",
      "(706, 'И увидел мальчик: прямо, У аптечного ларька, Вытирает слезы мама, Потерявшая сынка.', 2, 1, defaultdict(<class 'set'>, {'И': {('VERB', 'CCONJ')}}))\n",
      "(714, 'В сумках - книжки и тетрадки, А в тетрадках всё в порядке.', 2, 1, defaultdict(<class 'set'>, {'А': {('NOUN', 'CCONJ')}}))\n",
      "(715, 'Вдруг навстречу озорник, В ранце - с двойками дневник, Нет эмблемы на фуражке, И ремень уже без пряжки.', 3, 1, defaultdict(<class 'set'>, {'И': {('NOUN', 'CCONJ')}}))\n",
      "(717, 'Ни за что он их обидел У прохожих на виду, А потом трамвай увидел – Прицепился на ходу.', 2, 2, defaultdict(<class 'set'>, {'А': {('VERB', 'CCONJ')}, 'Ни': {('VERB', 'CCONJ')}}))\n",
      "(719, 'Он не знал, что дядя Стёпа Видит всё издалека, Он не знал, что дядя Стёпа Не простит озорника.', 4, 2, defaultdict(<class 'set'>, {'что': {('VERB', 'SCONJ')}}))\n",
      "(726, 'Треснул лёд - река пошла, И бабуся поплыла.', 3, 1, defaultdict(<class 'set'>, {'И': {('VERB', 'CCONJ')}}))\n",
      "(736, 'Не опишешь, что тут было!', 2, 1, defaultdict(<class 'set'>, {'что': {('VERB', 'SCONJ')}}))\n",
      "(737, 'Дядя Стёпа - руки вниз, Перегнувшись за перила, Как над пропастью повис.', 3, 1, defaultdict(<class 'set'>, {'Как': {('NOUN', 'SCONJ')}}))\n",
      "(738, 'Он успел схватить в охапку Перепуганную бабку, А старуха - за корзину: - Я бельё своё не кину!', 4, 1, defaultdict(<class 'set'>, {'А': {('NOUN', 'CCONJ')}}))\n",
      "(740, 'Шли ребята мимо зданья, Что на площади Восстанья, Вдруг глядят - стоит Степан, Их любимый великан!', 3, 1, defaultdict(<class 'set'>, {'Что': {('VERB', 'SCONJ')}}))\n",
      "(745, 'И теперь на мостовой, Там, где дом стоит высотный, Есть высотный постовой!', 3, 1, defaultdict(<class 'set'>, {'И': {('ADJ', 'CCONJ')}}))\n",
      "(750, 'И они бегут по кругу, А болельщики друг другу Говорят: - Гляди!', 2, 2, defaultdict(<class 'set'>, {'И': {('VERB', 'CCONJ')}, 'А': {('VERB', 'CCONJ')}}))\n",
      "(756, 'Очень жаль, что наш \"Спартак\" Не догонит их никак!', 2, 1, defaultdict(<class 'set'>, {'что': {('ADV', 'SCONJ')}}))\n",
      "(798, 'Я скажу вам по секрету, Что в милиции служу Потому, что службу эту Очень важной нахожу!', 4, 2, defaultdict(<class 'set'>, {'что': {('ADV', 'SCONJ')}, 'Что': {('NOUN', 'SCONJ')}}))\n",
      "(801, 'Ведь недаром сторонится Милицейского поста И милиции боится Тот, чья совесть не чиста.', 3, 1, defaultdict(<class 'set'>, {'И': {('VERB', 'CCONJ')}}))\n",
      "(802, 'К сожалению, бывает, Что милицией пугают Непослушных малышей.', 2, 1, defaultdict(<class 'set'>, {'Что': {('VERB', 'SCONJ')}}))\n",
      "(805, 'И, когда я слышу это, Я краснею до ушей...-', 2, 2, defaultdict(<class 'set'>, {'когда': {('VERB', 'SCONJ')}, 'И': {('VERB', 'CCONJ')}}))\n",
      "(810, 'Ходил Заяц с мешком по лесу, искал грибы-ягоды для своих зайчат, но, как назло, ничего ему не попадалось: ни грибов, ни ягод.', 3, 1, defaultdict(<class 'set'>, {'но': {('VERB', 'CCONJ')}}))\n",
      "(811, 'И вдруг посреди зелёной поляны увидел он дикую яблоню.', 2, 1, defaultdict(<class 'set'>, {'И': {('VERB', 'CCONJ')}}))\n",
      "(819, 'А у меня зайчата дома голодные сидят.', 2, 1, defaultdict(<class 'set'>, {'А': {('VERB', 'CCONJ')}}))\n",
      "(833, 'Идёт Заяц по лесу, а со всех сторон бегут к нему бельчата, пищат хором: – Дяденька Заяц!', 2, 1, defaultdict(<class 'set'>, {'а': {('VERB', 'CCONJ')}}))\n",
      "(838, '– Да вот, за грибами собрался, а грибов нигде не видно.', 2, 1, defaultdict(<class 'set'>, {'а': {('ADV', 'CCONJ')}}))\n",
      "(841, 'Бери, не стесняйся, у меня их много! – сказал Заяц и насыпал Ежу полную корзину яблок.', 4, 1, defaultdict(<class 'set'>, {'и': {('VERB', 'CCONJ')}}))\n",
      "(842, 'Вышел Заяц на лужок, а там Коза со своими козлятами гуляет.', 2, 1, defaultdict(<class 'set'>, {'а': {('VERB', 'CCONJ')}}))\n",
      "(848, 'Чтобы скоротать время, мама-Зайчиха рассказывает сказку своим голодным зайчатам.', 2, 1, defaultdict(<class 'set'>, {'Чтобы': {('VERB', 'SCONJ')}}))\n",
      "(850, 'Дверь распахнулась, и на пороге появились бельчата с большим лукошком, полным орехов.', 2, 1, defaultdict(<class 'set'>, {'и': {('VERB', 'CCONJ')}}))\n",
      "(858, 'Попрощался Ёж, ушёл, а корзину с грибами оставил Зайчихе.', 2, 1, defaultdict(<class 'set'>, {'а': {('VERB', 'CCONJ')}}))\n",
      "(862, 'Со стуком откинулась крышка подпола, и показалась голова Крота.', 2, 1, defaultdict(<class 'set'>, {'и': {('VERB', 'CCONJ')}}))\n",
      "(865, '– Значит, я правильно подкоп вёл! – обрадовался Крот, и полетели из подпола всякие овощи: морковка, картошка, петрушка, свёкла.', 3, 1, defaultdict(<class 'set'>, {'и': {('VERB', 'CCONJ')}}))\n",
      "(869, 'Всем яблоки раздавал, а меня хоть бы одним яблочком угостил!', 2, 1, defaultdict(<class 'set'>, {'а': {('VERB', 'CCONJ')}}))\n",
      "(873, '– Очень мне нужно твоё яблоко, я их терпеть не могу!', 3, 1, defaultdict(<class 'set'>, {'твоё': {('VERB', 'PRON')}}))\n",
      "(883, 'А когда прибежал к своей заветной яблоне, то там...', 2, 3, defaultdict(<class 'set'>, {'то': {('VERB', 'SCONJ')}, 'А': {('ADV', 'CCONJ')}, 'когда': {('ADV', 'SCONJ')}}))\n",
      "(891, '– А я зайцев очень люблю! – зарычал Волк и бросился на Зайца.', 2, 1, defaultdict(<class 'set'>, {'А': {('VERB', 'CCONJ')}}))\n",
      "(907, 'Зазвенели стёкла, распахнулось окошко, и появилась большая голова Медведя.', 2, 1, defaultdict(<class 'set'>, {'и': {('VERB', 'CCONJ')}}))\n",
      "(914, 'А злая Ворона удивляется: – Никак ума не приложу: как могло из пустого мешка столько добра появиться?', 2, 2, defaultdict(<class 'set'>, {'как': {('VERB', 'SCONJ')}, 'А': {('VERB', 'CCONJ')}}))\n",
      "(915, 'Девочка сидела за столом и рисовала картинки.', 2, 1, defaultdict(<class 'set'>, {'и': {('VERB', 'CCONJ')}}))\n",
      "(919, '– Смотри: вот крыша, вот труба на ней, а это дверь...', 3, 1, defaultdict(<class 'set'>, {'а': {('NOUN', 'CCONJ')}}))\n",
      "(922, 'И Девочка нарисовала, как из трубы домика идёт дым.', 2, 1, defaultdict(<class 'set'>, {'И': {('VERB', 'CCONJ')}}))\n",
      "(934, '– Вот тебе клумба с цветами, вот яблоня с яблоками, а здесь огород: тут морковка растёт и капуста растёт...', 3, 1, defaultdict(<class 'set'>, {'а': {('ADV', 'CCONJ')}}))\n",
      "(940, 'А птички будут? – спросила любопытная Кошка.', 2, 1, defaultdict(<class 'set'>, {'А': {('VERB', 'CCONJ')}}))\n",
      "(944, 'Тут Кошка вдруг облизнулась, замурлыкала и тихо-тихо спросила: – Ну... а мышки там будут... в домике?', 2, 1, defaultdict(<class 'set'>, {'а': {('NOUN', 'CCONJ')}}))\n",
      "(950, 'Кошка даже хвостом дёрнула, и шерсть у неё почему-то дыбом встала.', 2, 1, defaultdict(<class 'set'>, {'и': {('VERB', 'CCONJ')}}))\n",
      "(953, 'И ушла, будто её обидели.', 2, 2, defaultdict(<class 'set'>, {'И': {('VERB', 'CCONJ')}, 'будто': {('VERB', 'SCONJ')}}))\n",
      "(981, 'А тут Заяц на полянку выскочил, увидел гриб.', 2, 1, defaultdict(<class 'set'>, {'А': {('VERB', 'CCONJ')}}))\n",
      "(995, 'Раньше мне одному под грибом тесно было, а теперь всем пятерым место нашлось!', 2, 1, defaultdict(<class 'set'>, {'а': {('VERB', 'CCONJ')}}))\n",
      "(1001, 'Посмотрели все на гриб и тут догадались, почему сначала одному под грибом тесно было, а потом и пятерым место нашлось.', 2, 1, defaultdict(<class 'set'>, {'а': {('VERB', 'CCONJ')}}))\n",
      "(1004, 'Петушок все торопился, все торопился, а курочка знай себе приговаривает: – Петя, не торопись, Петя, не торопись.', 3, 1, defaultdict(<class 'set'>, {'а': {('VERB', 'CCONJ')}}))\n",
      "(1006, 'Подавился, не дышит, не слышит, словно мертвый лежит.', 2, 1, defaultdict(<class 'set'>, {'словно': {('VERB', 'SCONJ')}}))\n",
      "(1008, '– Беги скорей к коровушке, проси у нее молока, а я ужо собью маслица.', 2, 1, defaultdict(<class 'set'>, {'а': {('NOUN', 'CCONJ')}}))\n",
      "(1023, 'Бабушка каждый день за водой ходила, и внучка воду носила, и курочка к себе за печку воду таскала, и мышка водицу добывала.', 4, 3, defaultdict(<class 'set'>, {'и': {('VERB', 'CCONJ')}}))\n",
      "(1050, 'Яблоньку тряхнул, веточку качнул, а спелое яблочко с веточки бу-ух!', 2, 1, defaultdict(<class 'set'>, {'Яблоньку': {('VERB', 'SCONJ')}}))\n",
      "(1063, 'А у наших водоносов ведра раскатились, вода разлилась, коромысла в сторону отлетели...', 2, 1, defaultdict(<class 'set'>, {'А': {('VERB', 'CCONJ')}}))\n",
      "(1067, 'Бабушка на лавку упала, внучка за бабушку схоронилась, курочка за печку забилась, а мышка в норке дрожмя дрожит.', 4, 1, defaultdict(<class 'set'>, {'а': {('VERB', 'CCONJ')}}))\n",
      "(1069, 'Никак она не поймет: что за зверь такой ей под ноги шарахнулся?', 2, 1, defaultdict(<class 'set'>, {'что': {('VERB', 'SCONJ')}}))\n",
      "(1073, 'Глазищи-то, что свечки, горят!', 2, 1, defaultdict(<class 'set'>, {'что': {('ADV', 'SCONJ')}}))\n",
      "(1076, 'Курочка за печкой затаилась, головку под крыло спрятала, сама себе не верит, что уцелела.', 5, 1, defaultdict(<class 'set'>, {'что': {('VERB', 'SCONJ')}}))\n",
      "(1077, '«Ну и лисица, ― думает, ― как это она меня упустила?!', 2, 1, defaultdict(<class 'set'>, {'как': {('VERB', 'SCONJ')}}))\n",
      "(1082, 'Лапищей-то он меня как притянул, думала я ― смерть мне!', 3, 1, defaultdict(<class 'set'>, {'как': {('PRON', 'SCONJ')}}))\n",
      "(1083, 'Как это я от него от такого да укатилась?!» А зайка серенький в лес прибежал, под кустик забился, лежит, вздохнуть боится, а сам думу думает: «Охотники как подстерегли-то меня!', 5, 3, defaultdict(<class 'set'>, {'А': {('VERB', 'CCONJ')}, 'а': {('VERB', 'CCONJ')}, 'как': {('VERB', 'SCONJ')}}))\n",
      "(1087, 'Хороню, что долги выросли!» Так-то вот, мои детушки.', 2, 1, defaultdict(<class 'set'>, {'что': {('VERB', 'SCONJ')}}))\n",
      "(1088, 'С той поры, с того времечка и говорят люди добрые: – У страха глаза велики ― чего нет, и то видят!', 2, 1, defaultdict(<class 'set'>, {'и': {('VERB', 'CCONJ')}}))\n",
      "(1093, 'Наклонилась она поднять Колобок — и наткнись на что-то колючее.', 3, 1, defaultdict(<class 'set'>, {'и': {('VERB', 'CCONJ')}}))\n",
      "(1104, 'А Колобок подскочил и покатился по дорожке, только его Волк и видел!', 2, 1, defaultdict(<class 'set'>, {'А': {('VERB', 'CCONJ')}}))\n",
      "(1113, 'А Колобок опять покатился, — только Медведь его и видел!', 2, 1, defaultdict(<class 'set'>, {'А': {('VERB', 'CCONJ')}}))\n",
      "(1120, 'Я под кустиком рос, Весь колючками оброс, Я кругом нехорош, Как меня ты возьмешь?', 3, 1, defaultdict(<class 'set'>, {'Как': {('ADJ', 'SCONJ')}}))\n",
      "(1122, 'И только было покатился по дорожке, — Лиса его тихонечко, одними коготками толк в канаву!', 2, 1, defaultdict(<class 'set'>, {'И': {('VERB', 'CCONJ')}}))\n",
      "(1125, 'Тут все увидели, что это совсем не Колобок, а настоящий лесной еж.', 2, 1, defaultdict(<class 'set'>, {'что': {('VERB', 'SCONJ')}}))\n",
      "(1136, 'Уж как туфельку мою Я водичкою полью, И вырастет дерево, Чудесное дерево!', 2, 1, defaultdict(<class 'set'>, {'И': {('VERB', 'CCONJ')}}))\n",
      "(1159, 'Вот и люди спят, Вот и звери спят.', 3, 1, defaultdict(<class 'set'>, {'и': {('VERB', 'CCONJ')}}))\n",
      "(1171, '— Высоко, — испугался Кис, — а я маленький.', 2, 1, defaultdict(<class 'set'>, {'а': {('ADJ', 'CCONJ')}}))\n",
      "(1172, 'Окно перестало звенеть, будто ожидая чего-то.', 2, 1, defaultdict(<class 'set'>, {'будто': {('VERB', 'SCONJ')}}))\n",
      "(1180, 'А за вами — это что? — пригляделся Кис.', 2, 1, defaultdict(<class 'set'>, {'А': {('PRON', 'CCONJ')}}))\n",
      "(1184, '— Я прозрачное потому, что так захотели люди.', 3, 1, defaultdict(<class 'set'>, {'что': {('ADV', 'SCONJ')}}))\n",
      "(1203, 'Кто-то как-то между прочим сказал ему, что они называются ветками, кустами, деревьями.', 2, 1, defaultdict(<class 'set'>, {'что': {('VERB', 'SCONJ')}}))\n",
      "(1210, 'Хорошо потому, что солнечные лучи стали ярче и оттого узоры на окне засверкали тоже ярче.', 4, 1, defaultdict(<class 'set'>, {'что': {('ADV', 'SCONJ')}}))\n",
      "(1211, 'А плохо потому, что солнце стало горячее, и чудесные рисунки быстро исчезали.', 3, 3, defaultdict(<class 'set'>, {'А': {('ADV', 'CCONJ')}, 'и': {('VERB', 'CCONJ')}, 'что': {('ADV', 'SCONJ')}}))\n",
      "(1223, 'Обо всём забыл, он увидел, что чёрные ветки превратились во что-то прекрасное, зелёное-зелёное.', 3, 1, defaultdict(<class 'set'>, {'что': {('VERB', 'SCONJ')}}))\n",
      "(1224, 'Казалось, что деревья и кусты живые!', 2, 1, defaultdict(<class 'set'>, {'что': {('VERB', 'SCONJ')}}))\n",
      "(1230, 'Он и не заметил, что самого окна почти не видно: распахнуто окно.', 3, 1, defaultdict(<class 'set'>, {'что': {('VERB', 'SCONJ')}}))\n",
      "(1231, 'Застыл котёнок на миг и кинулся, хорошо этаж первый, в зелень.', 2, 1, defaultdict(<class 'set'>, {'и': {('VERB', 'CCONJ')}}))\n",
      "(1239, 'Правда, иногда, когда Кис дремал в зелёной траве, ему снились белые звёздочки и мохнатые новогодние лапы.', 2, 1, defaultdict(<class 'set'>, {'когда': {('VERB', 'SCONJ')}}))\n",
      "(1243, 'Окно точно знало, что тепло — не навсегда, что придут холода.', 3, 2, defaultdict(<class 'set'>, {'что': {('VERB', 'SCONJ'), ('ADV', 'SCONJ')}}))\n",
      "(1244, 'Окно знало, что его хозяйка замёрзнет и попросит не пускать домой холод.', 3, 1, defaultdict(<class 'set'>, {'что': {('VERB', 'SCONJ')}}))\n",
      "(1246, 'И тогда, в этом мудрое окошко не сомневалось, подойдёт повзрослевший Кис и немного виновато посмотрит вверх.', 3, 1, defaultdict(<class 'set'>, {'И': {('VERB', 'CCONJ')}}))\n",
      "(1247, 'Фиалки, белые и лиловые, недовольно — они ещё не совсем простили котёнка — уступят ему место, и Кис легко прыгнет на подоконник.', 4, 1, defaultdict(<class 'set'>, {'и': {('VERB', 'CCONJ')}}))\n",
      "(1252, 'И Кис скажет: — Вы самое, самое красивое!', 2, 1, defaultdict(<class 'set'>, {'И': {('VERB', 'CCONJ')}}))\n",
      "(1270, 'Пока мы пылились на полке, Мы все очутились на елке!', 2, 1, defaultdict(<class 'set'>, {'Пока': {('VERB', 'SCONJ')}}))\n",
      "(1275, 'Дело было в январе, Стояла елка на горе, А возле этой елки Бродили злые волки.', 3, 1, defaultdict(<class 'set'>, {'А': {('VERB', 'CCONJ')}}))\n",
      "(1281, 'Дело было в январе, ― Думал он, что на горе Украшенная елка.', 2, 1, defaultdict(<class 'set'>, {'что': {('VERB', 'SCONJ')}}))\n",
      "(1286, 'Когда медвежата выросли, они решили, что пойдут по свету искать счастья.', 3, 1, defaultdict(<class 'set'>, {'Когда': {('VERB', 'SCONJ')}}))\n",
      "(1291, 'И день шли, и другой шли.', 2, 2, defaultdict(<class 'set'>, {'И': {('VERB', 'CCONJ')}, 'и': {('VERB', 'CCONJ')}}))\n",
      "(1296, '– И мне хочется! ― сказал старший.', 2, 1, defaultdict(<class 'set'>, {'И': {('VERB', 'CCONJ')}}))\n",
      "(1297, 'Так они все шли да шли и вдруг нашли большую круглую головку сыра.', 3, 1, defaultdict(<class 'set'>, {'и': {('VERB', 'CCONJ')}}))\n",
      "(1299, 'Жадность одолела медвежат: каждый боялся, что другому достанется больше.', 3, 1, defaultdict(<class 'set'>, {'что': {('VERB', 'SCONJ')}}))\n",
      "(1300, 'Спорили они, рычали, и вдруг подошла к ним лиса.', 2, 1, defaultdict(<class 'set'>, {'и': {('VERB', 'CCONJ')}}))\n",
      "(1304, '― Давайте я вам поделю сыр поровну: мне, что младший, что старший ― все одно.', 5, 2, defaultdict(<class 'set'>, {'что': {('PRON', 'SCONJ'), ('ADJ', 'SCONJ')}}))\n",
      "(1307, 'Лиса взяла сыр и разломила его на две части.', 2, 1, defaultdict(<class 'set'>, {'и': {('VERB', 'CCONJ')}}))\n",
      "(1308, 'Но расколола головку так, что один кусок ― это даже на глаз было видно ― был больше другого.', 4, 2, defaultdict(<class 'set'>, {'Но': {('VERB', 'CCONJ')}, 'что': {('ADV', 'SCONJ')}}))\n",
      "(1313, 'Она откусила добрый кусок от большей части и проглотила его.', 2, 1, defaultdict(<class 'set'>, {'и': {('VERB', 'CCONJ')}}))\n",
      "(1321, '– Да будет вам! ― сказала лиса, с трудом ворочая языком, так как рот ее был набит вкусным сыром.', 4, 1, defaultdict(<class 'set'>, {'так как': {('VERB', 'ADV')}}))\n",
      "(1325, 'Пока лисица не наелась досыта, она все делила и делила.', 2, 1, defaultdict(<class 'set'>, {'Пока': {('VERB', 'SCONJ')}}))\n",
      "(1329, 'И, помахав хвостом, она убежала.', 2, 1, defaultdict(<class 'set'>, {'И': {('VERB', 'CCONJ')}}))\n",
      "(1335, 'И пришла к Айболиту лиса: «Ой, меня укусила оса!»', 2, 1, defaultdict(<class 'set'>, {'И': {('VERB', 'CCONJ')}}))\n",
      "(1336, 'И пришел к Айболиту барбос: «Меня курица клюнула в нос!»', 2, 1, defaultdict(<class 'set'>, {'И': {('VERB', 'CCONJ')}}))\n",
      "(1340, 'Он бежал по дорожке, И ему перерезало ножки, И теперь он больной и хромой, Маленький заинька мой!»', 3, 2, defaultdict(<class 'set'>, {'И': {('ADJ', 'CCONJ'), ('VERB', 'CCONJ')}}))\n",
      "(1344, 'И принесли ему зайку, Такого больного, хромого, И доктор пришил ему ножки, И заинька прыгает снова.', 3, 3, defaultdict(<class 'set'>, {'И': {('VERB', 'CCONJ')}}))\n",
      "(1358, 'И встал Айболит, побежал Айболит.', 2, 1, defaultdict(<class 'set'>, {'И': {('VERB', 'CCONJ')}}))\n",
      "(1361, 'А в лицо ему ветер, и снег, и град: «Эй, Айболит, воротися назад!» И упал Айболит и лежит на снегу: «Я дальше идти не могу».', 2, 1, defaultdict(<class 'set'>, {'А': {('NOUN', 'CCONJ')}}))\n",
      "(1362, 'И сейчас же к нему из-за елки Выбегают мохнатые волки: «Садись, Айболит, верхом, Мы живо тебя довезем!»', 2, 1, defaultdict(<class 'set'>, {'И': {('VERB', 'CCONJ')}}))\n",
      "(1363, 'И вперед поскакал Айболит И одно только слово твердит: «Лимпопό, Лимпопό, Лимпопό!»', 2, 2, defaultdict(<class 'set'>, {'И': {('VERB', 'CCONJ')}}))\n",
      "(1365, 'А в море высокая ходит волна, Сейчас Айболита проглотит она.', 2, 1, defaultdict(<class 'set'>, {'А': {('VERB', 'CCONJ')}}))\n",
      "(1367, 'Но тут выплывает кит: «Садись на меня, Айболит, И, как большой пароход, Тебя повезу я вперед!»', 2, 2, defaultdict(<class 'set'>, {'И': {('VERB', 'CCONJ')}, 'Но': {('VERB', 'CCONJ')}}))\n",
      "(1368, 'И сел на кита Айболит И одно только слово твердит: «Лимпопό, Лимпопό, Лимпопό!»', 2, 1, defaultdict(<class 'set'>, {'И': {('VERB', 'CCONJ')}}))\n",
      "(1369, 'И горы встают перед ним на пути, И он по горам начинает ползти, А горы все выше, а горы все круче, А горы уходят под самые тучи!', 4, 4, defaultdict(<class 'set'>, {'А': {('ADJ', 'CCONJ'), ('VERB', 'CCONJ')}, 'И': {('VERB', 'CCONJ')}}))\n",
      "(1370, '«О, если я не дойду, Если в пути пропаду, Что станется с ними, с больными, С моими зверями лесными?»', 3, 2, defaultdict(<class 'set'>, {'если': {('ADJ', 'SCONJ')}, 'Если': {('VERB', 'SCONJ')}}))\n",
      "(1371, 'И сейчас же с высокой скалы К Айболиту слетели орлы: «Садись, Айболит, верхом, Мы живо тебя довезем!»', 2, 1, defaultdict(<class 'set'>, {'И': {('VERB', 'CCONJ')}}))\n",
      "(1372, 'И сел на орла Айболит И одно только слово твердит: «Лимпопό, Лимпопό, Лимпопό!»', 2, 1, defaultdict(<class 'set'>, {'И': {('VERB', 'CCONJ')}}))\n",
      "(1373, 'А в Африке, А в Африке, На черной Лимпопό, Сидит и плачет В Африке Печальный Гиппопό.', 2, 1, defaultdict(<class 'set'>, {'А': {('PROPN', 'CCONJ')}}))\n",
      "(1376, 'И рыщут по дороге Слоны и носороги И говорят сердито: «Что ж нету Айболита?»', 3, 2, defaultdict(<class 'set'>, {'и': {('VERB', 'CCONJ')}, 'И': {('VERB', 'CCONJ')}}))\n",
      "(1383, 'А рядом прикорнула, Зубастая акула, Зубастая акула На солнышке лежит.', 2, 1, defaultdict(<class 'set'>, {'А': {('VERB', 'CCONJ')}}))\n",
      "(1388, 'Но вот, поглядите, какая-то птица Все ближе и ближе по воздуху мчится.', 2, 1, defaultdict(<class 'set'>, {'Но': {('VERB', 'CCONJ')}}))\n",
      "(1390, 'И рада и счастлива вся детвора: «Приехал, приехал!', 2, 2, defaultdict(<class 'set'>, {'И': {('ADJ', 'CCONJ')}, 'и': {('ADJ', 'CCONJ')}}))\n",
      "(1392, 'Ура!» А птица над ними кружится, А птица на землю садится.', 2, 2, defaultdict(<class 'set'>, {'А': {('VERB', 'CCONJ')}}))\n",
      "(1393, 'И бежит Айболит к бегемотикам, И хлопает их по животикам, И всем по порядку Дает шоколадку, И ставит и ставит им градусники!', 4, 4, defaultdict(<class 'set'>, {'И': {('VERB', 'CCONJ')}, 'и': {('VERB', 'CCONJ')}}))\n",
      "(1395, 'Десять ночей Айболит Не ест, не пьет и не спит, Десять ночей подряд Он лечит несчастных зверят И ставит и ставит им градусники.', 3, 1, defaultdict(<class 'set'>, {'и': {('VERB', 'CCONJ')}}))\n",
      "(1400, 'И акула Каракула Правым глазом подмигнула И хохочет, и хохочет, Будто кто ее щекочет.', 2, 1, defaultdict(<class 'set'>, {'И': {('VERB', 'CCONJ')}}))\n",
      "(1401, 'А малютки бегемотики Ухватились за животики И смеются, заливаются ― Так что дубы сотрясаются.', 3, 2, defaultdict(<class 'set'>, {'что': {('ADV', 'SCONJ')}, 'А': {('VERB', 'CCONJ')}}))\n",
      "(1404, 'Он идет от Занзибара, Он идет к Килиманджаро ― И кричит он, и поет он: «Слава, слава Айболиту!', 4, 2, defaultdict(<class 'set'>, {'и': {('VERB', 'CCONJ')}, 'И': {('VERB', 'CCONJ')}}))\n",
      "(1425, 'Наверное, потому, что я поссорился с мамой.', 2, 1, defaultdict(<class 'set'>, {'что': {('ADV', 'SCONJ')}}))\n",
      "(1426, 'Но прощения просить всё равно не буду.', 2, 1, defaultdict(<class 'set'>, {'Но': {('AUX', 'CCONJ')}}))\n",
      "(1432, 'И вдруг эта тётя, проходя мимо Васи, шепнула: ‒ Хочешь, я буду твоей мамой?', 3, 1, defaultdict(<class 'set'>, {'И': {('VERB', 'CCONJ')}}))\n",
      "(1433, '«Если уж брать новую маму, то с собакой», ― подумал Вася и тихо сказал: ‒ Ладно.', 3, 3, defaultdict(<class 'set'>, {'и': {('VERB', 'CCONJ')}, 'то': {('VERB', 'SCONJ')}, '«Если': {('VERB', 'SCONJ')}}))\n",
      "(1438, '― Ушла, а форточку не закрыла!', 2, 1, defaultdict(<class 'set'>, {'а': {('VERB', 'CCONJ')}}))\n",
      "(1460, '«А хорошо, когда мама ходит по квартире и всё время говорит: ― Мороженое!', 2, 1, defaultdict(<class 'set'>, {'когда': {('ADJ', 'SCONJ')}}))\n",
      "(1463, 'Он подошел к продавщице мороженого и тихо спросил: ‒ Вы не хотите стать моей мамой?', 3, 1, defaultdict(<class 'set'>, {'и': {('VERB', 'CCONJ')}}))\n",
      "(1466, 'Васе стало стыдно, и он побежал прочь.', 2, 1, defaultdict(<class 'set'>, {'и': {('VERB', 'CCONJ')}}))\n",
      "(1475, 'Стала Лиса варить кашу, а сама всё пробует.', 4, 1, defaultdict(<class 'set'>, {'а': {('VERB', 'CCONJ')}}))\n",
      "(1477, 'Заглянул Вася в кастрюлю, а кастрюля уже пустая.', 2, 1, defaultdict(<class 'set'>, {'а': {('ADJ', 'CCONJ')}}))\n",
      "(1488, '– А не в сыночки можно? — прошептал Вася.', 2, 1, defaultdict(<class 'set'>, {'А': {('ADV', 'CCONJ')}}))\n",
      "(1500, '– А моя мама всегда сначала меня уложит, а потом сама ложится, — с упрёком прошептал Вася.', 3, 2, defaultdict(<class 'set'>, {'а': {('VERB', 'CCONJ')}, 'А': {('VERB', 'CCONJ')}}))\n",
      "(1516, 'Зачем жить, когда ты никому не нужен?', 2, 1, defaultdict(<class 'set'>, {'когда': {('VERB', 'SCONJ')}}))\n",
      "(1529, 'Вместо домов там были сугробы, и окна слабо светили сквозь снег.', 2, 1, defaultdict(<class 'set'>, {'и': {('VERB', 'CCONJ')}}))\n",
      "(1532, 'Это моя мама поставила на окно лампу, чтобы я мог её разыскать!', 3, 1, defaultdict(<class 'set'>, {'чтобы': {('VERB', 'SCONJ')}}))\n",
      "(1557, '– Ты превратилась, — сказал Вася и обнял её за шею.', 3, 1, defaultdict(<class 'set'>, {'и': {('VERB', 'CCONJ')}}))\n",
      "(1562, 'Если у вас появился новый сервиз, старую ненужную сахарницу хорошенько вымойте, высушите и поставьте на самую дальнюю полку буфета.', 2, 1, defaultdict(<class 'set'>, {'Если': {('VERB', 'SCONJ')}}))\n",
      "(1566, 'А Струмышки, эти сказочные существа, больше всего на свете любят устраивать людям приятные удивительные неожиданности.', 3, 1, defaultdict(<class 'set'>, {'А': {('PROPN', 'CCONJ')}}))\n",
      "(1570, 'Но те, у кого лёгкий взгляд и весёлые глаза, видели Струмышек и рассказывают, что они похожи на клубочки жёлтого, необыкновенно лёгкого, пушистого меха.', 5, 3, defaultdict(<class 'set'>, {'Но': {('DET', 'CCONJ')}, 'что': {('VERB', 'SCONJ')}, 'и': {('VERB', 'CCONJ')}}))\n",
      "(1603, 'А можно ли не поверить, если видишь своими глазами?', 2, 1, defaultdict(<class 'set'>, {'А': {('ADV', 'CCONJ')}}))\n",
      "(1608, 'Да и каждому ясно, что весёлый лягушонок гораздо лучше обыкновенного вертолёта.', 2, 2, defaultdict(<class 'set'>, {'Да': {('ADJ', 'CCONJ')}, 'что': {('ADJ', 'SCONJ')}}))\n",
      "(1610, 'Ночью, когда все спали, она снова принялась за свои волшебные дела.', 2, 1, defaultdict(<class 'set'>, {'когда': {('VERB', 'SCONJ')}}))\n",
      "(1617, 'А потом ― радость: тяжёлый тёмно-синий материал превратился в мягкий нежный шёлк, а строгий деловой фасон преобразился до неузнаваемости.', 2, 1, defaultdict(<class 'set'>, {'а': {('VERB', 'CCONJ')}}))\n",
      "(1620, 'И неважно, что нет ни бала, ни короля, ни сказочного, ни настоящего.', 2, 2, defaultdict(<class 'set'>, {'И': {('ADJ', 'CCONJ')}, 'что': {('ADJ', 'SCONJ')}}))\n",
      "(1624, 'Две ночи думала Струмышка и придумала совсем простую, но чудесную странность.', 2, 1, defaultdict(<class 'set'>, {'и': {('VERB', 'CCONJ')}}))\n",
      "(1651, 'Но весёлые зверята — Поросята, медвежата — Пуще прежнего шалят, Зайца слушать не хотят.', 2, 1, defaultdict(<class 'set'>, {'Но': {('ADJ', 'CCONJ')}}))\n",
      "(1652, 'Рыбы по полю гуляют, Жабы по небу летают, Мыши кошку изловили, В мышеловку посадили.', 3, 1, defaultdict(<class 'set'>, {'Жабы': {('VERB', 'SCONJ')}}))\n",
      "(1653, 'А лисички Взяли спички, К морю синему пошли, Море синее зажгли.', 2, 1, defaultdict(<class 'set'>, {'А': {('VERB', 'CCONJ')}}))\n",
      "(1675, 'Вот лиса и дразнит зайца: — У меня избушка светлая, а у тебя тёмная!', 3, 1, defaultdict(<class 'set'>, {'а': {('PRON', 'CCONJ')}}))\n",
      "(1676, 'У меня светлая, а у тебя тёмная!', 2, 1, defaultdict(<class 'set'>, {'а': {('PRON', 'CCONJ')}}))\n",
      "(1685, 'Согласился заяц и пустил лису на крылечко.', 2, 1, defaultdict(<class 'set'>, {'и': {('VERB', 'CCONJ')}}))\n",
      "(1696, 'Сидит заяц и плачет, горюет, лапками слёзы обтирает.', 2, 1, defaultdict(<class 'set'>, {'и': {('VERB', 'CCONJ')}}))\n",
      "(1702, 'Попросилась лиса ко мне, да меня же и выгнала.', 2, 1, defaultdict(<class 'set'>, {'да': {('VERB', 'CCONJ')}}))\n",
      "(1717, 'Попросилась лиса ко мне, да меня же и выгнала.', 2, 1, defaultdict(<class 'set'>, {'да': {('VERB', 'CCONJ')}}))\n",
      "(1720, 'Собаки гнали — не выгнали, и ты не выгонишь.', 2, 1, defaultdict(<class 'set'>, {'и': {('VERB', 'CCONJ')}}))\n",
      "(1732, 'Попросилась лиса ко мне, да меня же и выгнала.', 2, 1, defaultdict(<class 'set'>, {'да': {('VERB', 'CCONJ')}}))\n",
      "(1750, 'Попросилась лиса ко мне, да меня же и выгнала.', 2, 1, defaultdict(<class 'set'>, {'да': {('VERB', 'CCONJ')}}))\n",
      "(1765, 'А лиса говорит: — Шубу надеваю...', 2, 1, defaultdict(<class 'set'>, {'А': {('VERB', 'CCONJ')}}))\n",
      "(1772, 'Однажды утром Медвежонок проснулся и подумал: «В лесу много зайцев, а мой друг Заяц – один.', 2, 1, defaultdict(<class 'set'>, {'а': {('ADJ', 'CCONJ')}}))\n",
      "(1774, '«Если я назову его ХВОСТИК, – думал Медвежонок, – то это будет не по правилам, потому что у меня тоже есть хвостик...', 4, 2, defaultdict(<class 'set'>, {'«Если': {('NOUN', 'SCONJ')}, 'то': {('VERB', 'SCONJ')}}))\n",
      "(1775, 'Если я назову его УСАТИК, это тоже будет нехорошо – потому что и у других зайцев есть усы...', 3, 1, defaultdict(<class 'set'>, {'Если': {('ADJ', 'SCONJ')}}))\n",
      "(1776, 'Надо назвать его так, чтобы все-все сразу знали, что это – мой друг».', 4, 2, defaultdict(<class 'set'>, {'чтобы': {('ADV', 'SCONJ')}, 'что': {('VERB', 'SCONJ')}}))\n",
      "(1786, 'Погладил его лапой и тихо сказал: – Как тебе спалось, МЕДВЕЖОНОККОТОРЫЙ-ДРУЖИТСЗАЙЦЕМ?', 3, 1, defaultdict(<class 'set'>, {'Как': {('PROPN', 'SCONJ')}}))\n",
      "(1811, 'Она в любую минуту готова придумать тысячу полезных хитростей, но сейчас Ежинка ничего путного предложить не могла.', 2, 1, defaultdict(<class 'set'>, {'но': {('VERB', 'CCONJ')}}))\n",
      "(1815, 'Мама-зайчиха благодарна зверятам за то, что не оставили друга в беде.', 3, 1, defaultdict(<class 'set'>, {'что': {('PRON', 'SCONJ')}}))\n",
      "(1817, 'А доктор-дятел думал, размышлял и говорит наконец: – Ну что ж, раз лекарства не помогают, придётся удалять больной зуб.', 5, 2, defaultdict(<class 'set'>, {'и': {('VERB', 'CCONJ')}, 'А': {('VERB', 'CCONJ')}}))\n",
      "(1820, 'А бельчонок Прыгалка, подпрыгивая от волнения на пеньке, предложил обмотать щёку Ушастика своим пушистым, тёплым хвостом.', 3, 1, defaultdict(<class 'set'>, {'А': {('ADJ', 'CCONJ')}}))\n",
      "(1822, 'А лягушонок Лашка, обрывая листочки жёлтой кувшинки, не сводил своих выпученных глаз с доктора-дятла.', 2, 1, defaultdict(<class 'set'>, {'А': {('VERB', 'CCONJ')}}))\n",
      "(1836, 'Важный доктор-дятел, постукивая клювом по сосне, размышлял: «Какое же лекарство всё-таки помогло Ушастику?» А мама-зайчиха смотрела на зверят и улыбалась.', 5, 2, defaultdict(<class 'set'>, {'А': {('VERB', 'CCONJ')}, 'на': {('VERB', 'ADP')}}))\n",
      "(1837, 'Она была очень благодарна доктору, но всё-таки догадывалась, что лекарства совсем ни при чём.', 3, 2, defaultdict(<class 'set'>, {'но': {('VERB', 'CCONJ')}, 'что': {('VERB', 'SCONJ')}}))\n",
      "(1842, 'Чтобы житу подрасти, Травке напиться, Цветам раскрыться.', 2, 1, defaultdict(<class 'set'>, {'Чтобы': {('VERB', 'SCONJ')}}))\n",
      "(1844, 'А коровки ему в лад Затянули «Му-му-му!» Ты, коровушка, ступай, В чисто поле погуляй, А вернешься вечерком, Нас напоишь молочком.', 3, 1, defaultdict(<class 'set'>, {'А': {('VERB', 'CCONJ')}}))\n",
      "(1851, 'Чтоб сыта была коровушка моя, Чтобы сливочек бурёнушка дала.', 2, 2, defaultdict(<class 'set'>, {'Чтобы': {('NOUN', 'SCONJ')}, 'Чтоб': {('NOUN', 'SCONJ')}}))\n",
      "(1858, 'Козушка-белоногушка По лесу ходила Волка дразнила: – А я волка не боюсь, Я серого не страшусь:', 4, 1, defaultdict(<class 'set'>, {'А': {('VERB', 'CCONJ')}}))\n",
      "(1861, 'Стоишь ты, березонька, Посередь долинушки;', 2, 1, defaultdict(<class 'set'>, {'Посередь': {('VERB', 'SCONJ')}}))\n",
      "(1872, 'Увидел, как Вову Сажали За стол.', 2, 1, defaultdict(<class 'set'>, {'как': {('VERB', 'SCONJ')}}))\n",
      "(1876, 'За ложку Схватился Испуганный Вова, А мама ответила: – Нету такого!', 3, 1, defaultdict(<class 'set'>, {'А': {('VERB', 'CCONJ')}}))\n",
      "(1879, 'Услышав про адрес, Смутился Андрейка: – Не думайте, дядя, Что я — неумейка!', 3, 1, defaultdict(<class 'set'>, {'Что': {('NOUN', 'PRON')}}))\n",
      "(1880, 'Я, дядя, Еще не окончил Игру, Вот выстрою Домик — И все уберу.', 3, 1, defaultdict(<class 'set'>, {'И': {('VERB', 'CCONJ')}}))\n",
      "(1882, 'Сестренка ему Надевала Чулок, А Слава скучал И глядел В потолок.', 2, 1, defaultdict(<class 'set'>, {'А': {('VERB', 'CCONJ')}}))\n",
      "(1885, 'Но Слава, Услышав Обидное слово, Чулок натянул И воскликнул: — Да что вы!', 3, 1, defaultdict(<class 'set'>, {'Но': {('VERB', 'CCONJ')}}))\n",
      "(1886, 'Я сам одеваюсь, Когда захочу, А это — Ну… просто Сестренку учу!', 4, 2, defaultdict(<class 'set'>, {'А': {('VERB', 'CCONJ')}, 'Когда': {('VERB', 'SCONJ')}}))\n",
      "(1887, 'Идет письмоносец В другую квартиру — И видит На кухне такую картину:', 2, 1, defaultdict(<class 'set'>, {'И': {('VERB', 'CCONJ')}}))\n",
      "(1888, 'Тарелки Помыты И сложены в груду, А мама и дочь Вытирают Посуду.', 2, 1, defaultdict(<class 'set'>, {'А': {('VERB', 'CCONJ')}}))\n",
      "(1899, 'И я вас прошу, Постарайтесь, Ребята, Чтоб это письмо Не нашло Адресата!', 3, 2, defaultdict(<class 'set'>, {'Чтоб': {('VERB', 'SCONJ')}, 'И': {('VERB', 'CCONJ')}}))\n"
     ]
    },
    {
     "name": "stderr",
     "output_type": "stream",
     "text": [
      "/home/dkbrz/.local/lib/python3.6/site-packages/nltk/parse/dependencygraph.py:380: UserWarning: The graph doesn't contain a node that depends on the root element.\n",
      "  \"The graph doesn't contain a node \"\n"
     ]
    }
   ],
   "source": [
    "with open('./conllu/(4-5).txt','r',encoding='utf-8') as f:\n",
    "    conllu = f.read().strip()\n",
    "    conllu = conllu.replace('# newdoc\\n', '').replace('# newpar\\n', '')\n",
    "\n",
    "sentences = conllu.split('\\n\\n')\n",
    "\n",
    "for key, s in enumerate(sentences):\n",
    "    if check(key, s):\n",
    "        print (check(key, s))"
   ]
  },
  {
   "cell_type": "code",
   "execution_count": 114,
   "metadata": {},
   "outputs": [
    {
     "name": "stdout",
     "output_type": "stream",
     "text": [
      "{'то', 'но', 'если', 'работали', 'прежде чем', '<', 'да', 'зато', 'пока', 'а', 'хотя', 'раз', '«если', 'нежели', 'коли', 'так как', 'так что', 'медведь', 'друг', 'чтобы', 'потому', 'точно', 'как только', '>', 'иначе', 'ведь', 'потому что', '«что', 'дабы', 'покуда', 'бабы', 'под', 'и', 'чтоб', 'ни', 'наколи', 'как будто', 'словно', 'будто', 'что', 'или', 'хоть', '–если', 'чем', 'только', 'как', 'когда'}\n"
     ]
    },
    {
     "name": "stderr",
     "output_type": "stream",
     "text": [
      "/home/dkbrz/.local/lib/python3.6/site-packages/nltk/parse/dependencygraph.py:380: UserWarning: The graph doesn't contain a node that depends on the root element.\n",
      "  \"The graph doesn't contain a node \"\n"
     ]
    }
   ],
   "source": [
    "with open('./conllu/(6-7).txt','r',encoding='utf-8') as f:\n",
    "    conllu = f.read().strip()\n",
    "    conllu = conllu.replace('# newdoc\\n', '').replace('# newpar\\n', '')\n",
    "\n",
    "sentences = conllu.split('\\n\\n')\n",
    "conn = set()\n",
    "\n",
    "for key, s in enumerate(sentences):\n",
    "    result = check(key, s)\n",
    "    if result:\n",
    "        n, sent, n_sent, n_con, con = result\n",
    "        for i in con.keys(): conn.add(i.lower())\n",
    "print (conn)"
   ]
  },
  {
   "cell_type": "code",
   "execution_count": 54,
   "metadata": {},
   "outputs": [],
   "source": [
    "def check_sentence(graph, sentence):\n",
    "    tags = defaultdict(list)\n",
    "    for i in graph.nodes: tags[graph.nodes[i]['rel']].append(i)\n",
    "    s = graph.nodes[0]['deps']['root'][0]\n",
    "    print (graph.nodes[s])\n",
    "    return tags"
   ]
  },
  {
   "cell_type": "code",
   "execution_count": null,
   "metadata": {},
   "outputs": [],
   "source": []
  },
  {
   "cell_type": "code",
   "execution_count": 40,
   "metadata": {
    "scrolled": false
   },
   "outputs": [
    {
     "name": "stdout",
     "output_type": "stream",
     "text": [
      "# text = На дворе стоял кувшин с водой, а в кувшине была вода только на дне.\n"
     ]
    },
    {
     "name": "stderr",
     "output_type": "stream",
     "text": [
      "/home/dkbrz/.local/lib/python3.6/site-packages/nltk/parse/dependencygraph.py:380: UserWarning: The graph doesn't contain a node that depends on the root element.\n",
      "  \"The graph doesn't contain a node \"\n"
     ]
    },
    {
     "data": {
      "text/plain": [
       "defaultdict(<function nltk.parse.dependencygraph.DependencyGraph.__init__.<locals>.<lambda>()>,\n",
       "            {0: {'address': 0,\n",
       "              'word': None,\n",
       "              'lemma': None,\n",
       "              'ctag': 'TOP',\n",
       "              'tag': 'TOP',\n",
       "              'feats': None,\n",
       "              'head': None,\n",
       "              'deps': defaultdict(list, {'root': [3], 'ROOT': []}),\n",
       "              'rel': None},\n",
       "             1: {'address': 1,\n",
       "              'word': 'На',\n",
       "              'lemma': 'на',\n",
       "              'ctag': 'ADP',\n",
       "              'tag': '_',\n",
       "              'feats': '_',\n",
       "              'head': 2,\n",
       "              'deps': defaultdict(list, {}),\n",
       "              'rel': 'case'},\n",
       "             2: {'address': 2,\n",
       "              'word': 'дворе',\n",
       "              'lemma': 'двор',\n",
       "              'ctag': 'NOUN',\n",
       "              'tag': '_',\n",
       "              'feats': 'Animacy=Inan|Case=Loc|Gender=Masc|Number=Sing',\n",
       "              'head': 3,\n",
       "              'deps': defaultdict(list, {'case': [1]}),\n",
       "              'rel': 'obl'},\n",
       "             3: {'address': 3,\n",
       "              'word': 'стоял',\n",
       "              'lemma': 'стоять',\n",
       "              'ctag': 'VERB',\n",
       "              'tag': '_',\n",
       "              'feats': 'Aspect=Imp|Gender=Masc|Mood=Ind|Number=Sing|Tense=Past|VerbForm=Fin|Voice=Act',\n",
       "              'head': 0,\n",
       "              'deps': defaultdict(list,\n",
       "                          {'obl': [2], 'nsubj': [4], 'conj': [10]}),\n",
       "              'rel': 'root'},\n",
       "             4: {'address': 4,\n",
       "              'word': 'кувшин',\n",
       "              'lemma': 'кувшина',\n",
       "              'ctag': 'NOUN',\n",
       "              'tag': '_',\n",
       "              'feats': 'Animacy=Inan|Case=Nom|Gender=Masc|Number=Sing',\n",
       "              'head': 3,\n",
       "              'deps': defaultdict(list, {'nmod': [6]}),\n",
       "              'rel': 'nsubj'},\n",
       "             5: {'address': 5,\n",
       "              'word': 'с',\n",
       "              'lemma': 'с',\n",
       "              'ctag': 'ADP',\n",
       "              'tag': '_',\n",
       "              'feats': '_',\n",
       "              'head': 6,\n",
       "              'deps': defaultdict(list, {}),\n",
       "              'rel': 'case'},\n",
       "             6: {'address': 6,\n",
       "              'word': 'водой',\n",
       "              'lemma': 'вода',\n",
       "              'ctag': 'NOUN',\n",
       "              'tag': '_',\n",
       "              'feats': 'Animacy=Inan|Case=Ins|Gender=Fem|Number=Sing',\n",
       "              'head': 4,\n",
       "              'deps': defaultdict(list, {'case': [5], 'punct': [7]}),\n",
       "              'rel': 'nmod'},\n",
       "             7: {'address': 7,\n",
       "              'word': ',',\n",
       "              'lemma': ',',\n",
       "              'ctag': 'PUNCT',\n",
       "              'tag': '_',\n",
       "              'feats': '_',\n",
       "              'head': 6,\n",
       "              'deps': defaultdict(list, {}),\n",
       "              'rel': 'punct'},\n",
       "             8: {'address': 8,\n",
       "              'word': 'а',\n",
       "              'lemma': 'а',\n",
       "              'ctag': 'CCONJ',\n",
       "              'tag': '_',\n",
       "              'feats': '_',\n",
       "              'head': 10,\n",
       "              'deps': defaultdict(list, {}),\n",
       "              'rel': 'cc'},\n",
       "             10: {'address': 10,\n",
       "              'word': 'кувшине',\n",
       "              'lemma': 'кувшина',\n",
       "              'ctag': 'NOUN',\n",
       "              'tag': '_',\n",
       "              'feats': 'Animacy=Inan|Case=Loc|Gender=Fem|Number=Sing',\n",
       "              'head': 3,\n",
       "              'deps': defaultdict(list,\n",
       "                          {'cc': [8],\n",
       "                           'case': [9],\n",
       "                           'cop': [11],\n",
       "                           'parataxis': [15]}),\n",
       "              'rel': 'conj'},\n",
       "             9: {'address': 9,\n",
       "              'word': 'в',\n",
       "              'lemma': 'в',\n",
       "              'ctag': 'ADP',\n",
       "              'tag': '_',\n",
       "              'feats': '_',\n",
       "              'head': 10,\n",
       "              'deps': defaultdict(list, {}),\n",
       "              'rel': 'case'},\n",
       "             11: {'address': 11,\n",
       "              'word': 'была',\n",
       "              'lemma': 'быть',\n",
       "              'ctag': 'VERB',\n",
       "              'tag': '_',\n",
       "              'feats': 'Aspect=Imp|Gender=Fem|Mood=Ind|Number=Sing|Tense=Past|VerbForm=Fin|Voice=Act',\n",
       "              'head': 10,\n",
       "              'deps': defaultdict(list, {}),\n",
       "              'rel': 'cop'},\n",
       "             12: {'address': 12,\n",
       "              'word': 'вода',\n",
       "              'lemma': 'вода',\n",
       "              'ctag': 'NOUN',\n",
       "              'tag': '_',\n",
       "              'feats': 'Animacy=Inan|Case=Nom|Gender=Fem|Number=Sing',\n",
       "              'head': 15,\n",
       "              'deps': defaultdict(list, {}),\n",
       "              'rel': 'nsubj'},\n",
       "             15: {'address': 15,\n",
       "              'word': 'дне',\n",
       "              'lemma': 'день',\n",
       "              'ctag': 'NOUN',\n",
       "              'tag': '_',\n",
       "              'feats': 'Animacy=Inan|Case=Loc|Gender=Neut|Number=Sing',\n",
       "              'head': 10,\n",
       "              'deps': defaultdict(list,\n",
       "                          {'nsubj': [12],\n",
       "                           'advmod': [13],\n",
       "                           'case': [14],\n",
       "                           'punct': [16]}),\n",
       "              'rel': 'parataxis'},\n",
       "             13: {'address': 13,\n",
       "              'word': 'только',\n",
       "              'lemma': 'только',\n",
       "              'ctag': 'PART',\n",
       "              'tag': '_',\n",
       "              'feats': '_',\n",
       "              'head': 15,\n",
       "              'deps': defaultdict(list, {}),\n",
       "              'rel': 'advmod'},\n",
       "             14: {'address': 14,\n",
       "              'word': 'на',\n",
       "              'lemma': 'на',\n",
       "              'ctag': 'ADP',\n",
       "              'tag': '_',\n",
       "              'feats': '_',\n",
       "              'head': 15,\n",
       "              'deps': defaultdict(list, {}),\n",
       "              'rel': 'case'},\n",
       "             16: {'address': 16,\n",
       "              'word': '.',\n",
       "              'lemma': '.',\n",
       "              'ctag': 'PUNCT',\n",
       "              'tag': '_',\n",
       "              'feats': '_',\n",
       "              'head': 15,\n",
       "              'deps': defaultdict(list, {}),\n",
       "              'rel': 'punct'}})"
      ]
     },
     "execution_count": 40,
     "metadata": {},
     "output_type": "execute_result"
    }
   ],
   "source": [
    "s = sentences[523]\n",
    "s = s.split('\\n')\n",
    "print (s[1])\n",
    "d = DependencyGraph(s[2:])\n",
    "d.nodes"
   ]
  },
  {
   "cell_type": "code",
   "execution_count": 101,
   "metadata": {},
   "outputs": [
    {
     "ename": "Exception",
     "evalue": "Cannot find the dot binary from Graphviz package",
     "output_type": "error",
     "traceback": [
      "\u001b[0;31m---------------------------------------------------------------------------\u001b[0m",
      "\u001b[0;31mFileNotFoundError\u001b[0m                         Traceback (most recent call last)",
      "\u001b[0;32m~/.local/lib/python3.6/site-packages/nltk/parse/dependencygraph.py\u001b[0m in \u001b[0;36m_repr_svg_\u001b[0;34m(self)\u001b[0m\n\u001b[1;32m    205\u001b[0m                 \u001b[0mstderr\u001b[0m\u001b[0;34m=\u001b[0m\u001b[0msubprocess\u001b[0m\u001b[0;34m.\u001b[0m\u001b[0mPIPE\u001b[0m\u001b[0;34m,\u001b[0m\u001b[0;34m\u001b[0m\u001b[0m\n\u001b[0;32m--> 206\u001b[0;31m                 \u001b[0muniversal_newlines\u001b[0m\u001b[0;34m=\u001b[0m\u001b[0;32mTrue\u001b[0m\u001b[0;34m,\u001b[0m\u001b[0;34m\u001b[0m\u001b[0m\n\u001b[0m\u001b[1;32m    207\u001b[0m             )\n",
      "\u001b[0;32m/usr/lib/python3.6/subprocess.py\u001b[0m in \u001b[0;36m__init__\u001b[0;34m(self, args, bufsize, executable, stdin, stdout, stderr, preexec_fn, close_fds, shell, cwd, env, universal_newlines, startupinfo, creationflags, restore_signals, start_new_session, pass_fds, encoding, errors)\u001b[0m\n\u001b[1;32m    708\u001b[0m                                 \u001b[0merrread\u001b[0m\u001b[0;34m,\u001b[0m \u001b[0merrwrite\u001b[0m\u001b[0;34m,\u001b[0m\u001b[0;34m\u001b[0m\u001b[0m\n\u001b[0;32m--> 709\u001b[0;31m                                 restore_signals, start_new_session)\n\u001b[0m\u001b[1;32m    710\u001b[0m         \u001b[0;32mexcept\u001b[0m\u001b[0;34m:\u001b[0m\u001b[0;34m\u001b[0m\u001b[0m\n",
      "\u001b[0;32m/usr/lib/python3.6/subprocess.py\u001b[0m in \u001b[0;36m_execute_child\u001b[0;34m(self, args, executable, preexec_fn, close_fds, pass_fds, cwd, env, startupinfo, creationflags, shell, p2cread, p2cwrite, c2pread, c2pwrite, errread, errwrite, restore_signals, start_new_session)\u001b[0m\n\u001b[1;32m   1343\u001b[0m                             \u001b[0merr_msg\u001b[0m \u001b[0;34m+=\u001b[0m \u001b[0;34m': '\u001b[0m \u001b[0;34m+\u001b[0m \u001b[0mrepr\u001b[0m\u001b[0;34m(\u001b[0m\u001b[0merr_filename\u001b[0m\u001b[0;34m)\u001b[0m\u001b[0;34m\u001b[0m\u001b[0m\n\u001b[0;32m-> 1344\u001b[0;31m                     \u001b[0;32mraise\u001b[0m \u001b[0mchild_exception_type\u001b[0m\u001b[0;34m(\u001b[0m\u001b[0merrno_num\u001b[0m\u001b[0;34m,\u001b[0m \u001b[0merr_msg\u001b[0m\u001b[0;34m,\u001b[0m \u001b[0merr_filename\u001b[0m\u001b[0;34m)\u001b[0m\u001b[0;34m\u001b[0m\u001b[0m\n\u001b[0m\u001b[1;32m   1345\u001b[0m                 \u001b[0;32mraise\u001b[0m \u001b[0mchild_exception_type\u001b[0m\u001b[0;34m(\u001b[0m\u001b[0merr_msg\u001b[0m\u001b[0;34m)\u001b[0m\u001b[0;34m\u001b[0m\u001b[0m\n",
      "\u001b[0;31mFileNotFoundError\u001b[0m: [Errno 2] No such file or directory: 'dot': 'dot'",
      "\nDuring handling of the above exception, another exception occurred:\n",
      "\u001b[0;31mException\u001b[0m                                 Traceback (most recent call last)",
      "\u001b[0;32m~/.local/lib/python3.6/site-packages/IPython/core/formatters.py\u001b[0m in \u001b[0;36m__call__\u001b[0;34m(self, obj)\u001b[0m\n\u001b[1;32m    343\u001b[0m             \u001b[0mmethod\u001b[0m \u001b[0;34m=\u001b[0m \u001b[0mget_real_method\u001b[0m\u001b[0;34m(\u001b[0m\u001b[0mobj\u001b[0m\u001b[0;34m,\u001b[0m \u001b[0mself\u001b[0m\u001b[0;34m.\u001b[0m\u001b[0mprint_method\u001b[0m\u001b[0;34m)\u001b[0m\u001b[0;34m\u001b[0m\u001b[0m\n\u001b[1;32m    344\u001b[0m             \u001b[0;32mif\u001b[0m \u001b[0mmethod\u001b[0m \u001b[0;32mis\u001b[0m \u001b[0;32mnot\u001b[0m \u001b[0;32mNone\u001b[0m\u001b[0;34m:\u001b[0m\u001b[0;34m\u001b[0m\u001b[0m\n\u001b[0;32m--> 345\u001b[0;31m                 \u001b[0;32mreturn\u001b[0m \u001b[0mmethod\u001b[0m\u001b[0;34m(\u001b[0m\u001b[0;34m)\u001b[0m\u001b[0;34m\u001b[0m\u001b[0m\n\u001b[0m\u001b[1;32m    346\u001b[0m             \u001b[0;32mreturn\u001b[0m \u001b[0;32mNone\u001b[0m\u001b[0;34m\u001b[0m\u001b[0m\n\u001b[1;32m    347\u001b[0m         \u001b[0;32melse\u001b[0m\u001b[0;34m:\u001b[0m\u001b[0;34m\u001b[0m\u001b[0m\n",
      "\u001b[0;32m~/.local/lib/python3.6/site-packages/nltk/parse/dependencygraph.py\u001b[0m in \u001b[0;36m_repr_svg_\u001b[0;34m(self)\u001b[0m\n\u001b[1;32m    207\u001b[0m             )\n\u001b[1;32m    208\u001b[0m         \u001b[0;32mexcept\u001b[0m \u001b[0mOSError\u001b[0m\u001b[0;34m:\u001b[0m\u001b[0;34m\u001b[0m\u001b[0m\n\u001b[0;32m--> 209\u001b[0;31m             \u001b[0;32mraise\u001b[0m \u001b[0mException\u001b[0m\u001b[0;34m(\u001b[0m\u001b[0;34m'Cannot find the dot binary from Graphviz package'\u001b[0m\u001b[0;34m)\u001b[0m\u001b[0;34m\u001b[0m\u001b[0m\n\u001b[0m\u001b[1;32m    210\u001b[0m         \u001b[0mout\u001b[0m\u001b[0;34m,\u001b[0m \u001b[0merr\u001b[0m \u001b[0;34m=\u001b[0m \u001b[0mprocess\u001b[0m\u001b[0;34m.\u001b[0m\u001b[0mcommunicate\u001b[0m\u001b[0;34m(\u001b[0m\u001b[0mdot_string\u001b[0m\u001b[0;34m)\u001b[0m\u001b[0;34m\u001b[0m\u001b[0m\n\u001b[1;32m    211\u001b[0m         \u001b[0;32mif\u001b[0m \u001b[0merr\u001b[0m\u001b[0;34m:\u001b[0m\u001b[0;34m\u001b[0m\u001b[0m\n",
      "\u001b[0;31mException\u001b[0m: Cannot find the dot binary from Graphviz package"
     ]
    },
    {
     "data": {
      "text/plain": [
       "<DependencyGraph with 12 nodes>"
      ]
     },
     "execution_count": 101,
     "metadata": {},
     "output_type": "execute_result"
    }
   ],
   "source": [
    "d"
   ]
  }
 ],
 "metadata": {
  "kernelspec": {
   "display_name": "Python 3",
   "language": "python",
   "name": "python3"
  },
  "language_info": {
   "codemirror_mode": {
    "name": "ipython",
    "version": 3
   },
   "file_extension": ".py",
   "mimetype": "text/x-python",
   "name": "python",
   "nbconvert_exporter": "python",
   "pygments_lexer": "ipython3",
   "version": "3.6.6"
  }
 },
 "nbformat": 4,
 "nbformat_minor": 2
}
